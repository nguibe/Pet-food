{
 "cells": [
  {
   "cell_type": "markdown",
   "metadata": {},
   "source": [
    "### Empirical Method for business decisions - Data-driven optimization of Hill's marketing campaign​"
   ]
  },
  {
   "cell_type": "markdown",
   "metadata": {},
   "source": [
    "# Waste estimation"
   ]
  },
  {
   "cell_type": "code",
   "execution_count": 2,
   "metadata": {},
   "outputs": [],
   "source": [
    "# we import the necessary packages\n",
    "import pandas as pd\n",
    "import numpy as np\n",
    "import seaborn as sns\n",
    "import matplotlib.pyplot as plt"
   ]
  },
  {
   "cell_type": "code",
   "execution_count": 61,
   "metadata": {},
   "outputs": [
    {
     "data": {
      "text/html": [
       "<div>\n",
       "<style scoped>\n",
       "    .dataframe tbody tr th:only-of-type {\n",
       "        vertical-align: middle;\n",
       "    }\n",
       "\n",
       "    .dataframe tbody tr th {\n",
       "        vertical-align: top;\n",
       "    }\n",
       "\n",
       "    .dataframe thead th {\n",
       "        text-align: right;\n",
       "    }\n",
       "</style>\n",
       "<table border=\"1\" class=\"dataframe\">\n",
       "  <thead>\n",
       "    <tr style=\"text-align: right;\">\n",
       "      <th></th>\n",
       "      <th>Unnamed: 0.1</th>\n",
       "      <th>Unnamed: 0</th>\n",
       "      <th>customer_id</th>\n",
       "      <th>date</th>\n",
       "      <th>event</th>\n",
       "      <th>sales</th>\n",
       "      <th>cost</th>\n",
       "      <th>Cluster</th>\n",
       "      <th>num_exposure</th>\n",
       "    </tr>\n",
       "  </thead>\n",
       "  <tbody>\n",
       "    <tr>\n",
       "      <th>0</th>\n",
       "      <td>5821808</td>\n",
       "      <td>0</td>\n",
       "      <td>re000fIO9QXTWYjOfn</td>\n",
       "      <td>2024-01-24 14:25:56</td>\n",
       "      <td>Retargeting</td>\n",
       "      <td>NaN</td>\n",
       "      <td>3595.156</td>\n",
       "      <td>Heavy</td>\n",
       "      <td>1</td>\n",
       "    </tr>\n",
       "    <tr>\n",
       "      <th>1</th>\n",
       "      <td>2220659</td>\n",
       "      <td>3473802</td>\n",
       "      <td>re000fIO9QXTWYjOfn</td>\n",
       "      <td>2024-01-24 14:44:47</td>\n",
       "      <td>Add to cart</td>\n",
       "      <td>NaN</td>\n",
       "      <td>NaN</td>\n",
       "      <td>Heavy</td>\n",
       "      <td>1</td>\n",
       "    </tr>\n",
       "    <tr>\n",
       "      <th>2</th>\n",
       "      <td>2220655</td>\n",
       "      <td>3473798</td>\n",
       "      <td>re000fIO9QXTWYjOfn</td>\n",
       "      <td>2024-01-24 14:48:51</td>\n",
       "      <td>Product Page View</td>\n",
       "      <td>NaN</td>\n",
       "      <td>NaN</td>\n",
       "      <td>Heavy</td>\n",
       "      <td>1</td>\n",
       "    </tr>\n",
       "    <tr>\n",
       "      <th>3</th>\n",
       "      <td>2220657</td>\n",
       "      <td>3473800</td>\n",
       "      <td>re000fIO9QXTWYjOfn</td>\n",
       "      <td>2024-01-24 14:51:54</td>\n",
       "      <td>Order</td>\n",
       "      <td>31.92</td>\n",
       "      <td>NaN</td>\n",
       "      <td>Heavy</td>\n",
       "      <td>1</td>\n",
       "    </tr>\n",
       "    <tr>\n",
       "      <th>4</th>\n",
       "      <td>2220654</td>\n",
       "      <td>3473797</td>\n",
       "      <td>re000fIO9QXTWYjOfn</td>\n",
       "      <td>2024-01-24 14:55:03</td>\n",
       "      <td>Product Page View</td>\n",
       "      <td>NaN</td>\n",
       "      <td>NaN</td>\n",
       "      <td>Heavy</td>\n",
       "      <td>1</td>\n",
       "    </tr>\n",
       "  </tbody>\n",
       "</table>\n",
       "</div>"
      ],
      "text/plain": [
       "   Unnamed: 0.1  Unnamed: 0         customer_id                 date  \\\n",
       "0       5821808           0  re000fIO9QXTWYjOfn  2024-01-24 14:25:56   \n",
       "1       2220659     3473802  re000fIO9QXTWYjOfn  2024-01-24 14:44:47   \n",
       "2       2220655     3473798  re000fIO9QXTWYjOfn  2024-01-24 14:48:51   \n",
       "3       2220657     3473800  re000fIO9QXTWYjOfn  2024-01-24 14:51:54   \n",
       "4       2220654     3473797  re000fIO9QXTWYjOfn  2024-01-24 14:55:03   \n",
       "\n",
       "               event  sales      cost Cluster  num_exposure  \n",
       "0        Retargeting    NaN  3595.156   Heavy             1  \n",
       "1        Add to cart    NaN       NaN   Heavy             1  \n",
       "2  Product Page View    NaN       NaN   Heavy             1  \n",
       "3              Order  31.92       NaN   Heavy             1  \n",
       "4  Product Page View    NaN       NaN   Heavy             1  "
      ]
     },
     "execution_count": 61,
     "metadata": {},
     "output_type": "execute_result"
    }
   ],
   "source": [
    "# and the dataframes\n",
    "cost = pd.read_csv('EMBD/project/data/final_detailed_data.csv')\n",
    "cost.head()"
   ]
  },
  {
   "cell_type": "code",
   "execution_count": 63,
   "metadata": {},
   "outputs": [
    {
     "data": {
      "text/plain": [
       "((9845305, 9), 789164)"
      ]
     },
     "execution_count": 63,
     "metadata": {},
     "output_type": "execute_result"
    }
   ],
   "source": [
    "cost.shape, cost['customer_id'].nunique()"
   ]
  },
  {
   "cell_type": "markdown",
   "metadata": {},
   "source": [
    "The dataframe we'll be using has 9845305 lines for 789164 customers. This data retraces for each of those customers, the events (be it activity on websity or exposure to an add), their date, cost and sales."
   ]
  },
  {
   "cell_type": "code",
   "execution_count": 4,
   "metadata": {},
   "outputs": [],
   "source": [
    "# we initialize parameters based on previous analysis\n",
    "# caping values\n",
    "cap_heavy = 40\n",
    "cap_medium = 20\n",
    "cap_light = 10"
   ]
  },
  {
   "cell_type": "code",
   "execution_count": 5,
   "metadata": {},
   "outputs": [
    {
     "data": {
      "text/html": [
       "<div>\n",
       "<style scoped>\n",
       "    .dataframe tbody tr th:only-of-type {\n",
       "        vertical-align: middle;\n",
       "    }\n",
       "\n",
       "    .dataframe tbody tr th {\n",
       "        vertical-align: top;\n",
       "    }\n",
       "\n",
       "    .dataframe thead th {\n",
       "        text-align: right;\n",
       "    }\n",
       "</style>\n",
       "<table border=\"1\" class=\"dataframe\">\n",
       "  <thead>\n",
       "    <tr style=\"text-align: right;\">\n",
       "      <th></th>\n",
       "      <th>Unnamed: 0.1</th>\n",
       "      <th>Unnamed: 0</th>\n",
       "      <th>customer_id</th>\n",
       "      <th>date</th>\n",
       "      <th>event</th>\n",
       "      <th>sales</th>\n",
       "      <th>cost</th>\n",
       "      <th>Cluster</th>\n",
       "      <th>num_exposure</th>\n",
       "      <th>cap</th>\n",
       "    </tr>\n",
       "  </thead>\n",
       "  <tbody>\n",
       "    <tr>\n",
       "      <th>0</th>\n",
       "      <td>5821808</td>\n",
       "      <td>0</td>\n",
       "      <td>re000fIO9QXTWYjOfn</td>\n",
       "      <td>2024-01-24 14:25:56</td>\n",
       "      <td>Retargeting</td>\n",
       "      <td>NaN</td>\n",
       "      <td>3595.156</td>\n",
       "      <td>Heavy</td>\n",
       "      <td>1</td>\n",
       "      <td>40.0</td>\n",
       "    </tr>\n",
       "    <tr>\n",
       "      <th>1</th>\n",
       "      <td>2220659</td>\n",
       "      <td>3473802</td>\n",
       "      <td>re000fIO9QXTWYjOfn</td>\n",
       "      <td>2024-01-24 14:44:47</td>\n",
       "      <td>Add to cart</td>\n",
       "      <td>NaN</td>\n",
       "      <td>NaN</td>\n",
       "      <td>Heavy</td>\n",
       "      <td>1</td>\n",
       "      <td>40.0</td>\n",
       "    </tr>\n",
       "    <tr>\n",
       "      <th>2</th>\n",
       "      <td>2220655</td>\n",
       "      <td>3473798</td>\n",
       "      <td>re000fIO9QXTWYjOfn</td>\n",
       "      <td>2024-01-24 14:48:51</td>\n",
       "      <td>Product Page View</td>\n",
       "      <td>NaN</td>\n",
       "      <td>NaN</td>\n",
       "      <td>Heavy</td>\n",
       "      <td>1</td>\n",
       "      <td>40.0</td>\n",
       "    </tr>\n",
       "    <tr>\n",
       "      <th>3</th>\n",
       "      <td>2220657</td>\n",
       "      <td>3473800</td>\n",
       "      <td>re000fIO9QXTWYjOfn</td>\n",
       "      <td>2024-01-24 14:51:54</td>\n",
       "      <td>Order</td>\n",
       "      <td>31.92</td>\n",
       "      <td>NaN</td>\n",
       "      <td>Heavy</td>\n",
       "      <td>1</td>\n",
       "      <td>40.0</td>\n",
       "    </tr>\n",
       "    <tr>\n",
       "      <th>4</th>\n",
       "      <td>2220654</td>\n",
       "      <td>3473797</td>\n",
       "      <td>re000fIO9QXTWYjOfn</td>\n",
       "      <td>2024-01-24 14:55:03</td>\n",
       "      <td>Product Page View</td>\n",
       "      <td>NaN</td>\n",
       "      <td>NaN</td>\n",
       "      <td>Heavy</td>\n",
       "      <td>1</td>\n",
       "      <td>40.0</td>\n",
       "    </tr>\n",
       "  </tbody>\n",
       "</table>\n",
       "</div>"
      ],
      "text/plain": [
       "   Unnamed: 0.1  Unnamed: 0         customer_id                 date  \\\n",
       "0       5821808           0  re000fIO9QXTWYjOfn  2024-01-24 14:25:56   \n",
       "1       2220659     3473802  re000fIO9QXTWYjOfn  2024-01-24 14:44:47   \n",
       "2       2220655     3473798  re000fIO9QXTWYjOfn  2024-01-24 14:48:51   \n",
       "3       2220657     3473800  re000fIO9QXTWYjOfn  2024-01-24 14:51:54   \n",
       "4       2220654     3473797  re000fIO9QXTWYjOfn  2024-01-24 14:55:03   \n",
       "\n",
       "               event  sales      cost Cluster  num_exposure   cap  \n",
       "0        Retargeting    NaN  3595.156   Heavy             1  40.0  \n",
       "1        Add to cart    NaN       NaN   Heavy             1  40.0  \n",
       "2  Product Page View    NaN       NaN   Heavy             1  40.0  \n",
       "3              Order  31.92       NaN   Heavy             1  40.0  \n",
       "4  Product Page View    NaN       NaN   Heavy             1  40.0  "
      ]
     },
     "execution_count": 5,
     "metadata": {},
     "output_type": "execute_result"
    }
   ],
   "source": [
    "# creating a cap value column for each customer type\n",
    "cost.loc[cost['Cluster']=='Heavy','cap'] = cap_heavy\n",
    "cost.loc[cost['Cluster']=='Medium','cap'] = cap_medium\n",
    "cost.loc[cost['Cluster']=='Light','cap'] = cap_light\n",
    "cost.head()"
   ]
  },
  {
   "cell_type": "code",
   "execution_count": 7,
   "metadata": {},
   "outputs": [
    {
     "name": "stdout",
     "output_type": "stream",
     "text": [
      "From 9845305 to 4023497 lines.\n"
     ]
    }
   ],
   "source": [
    "# in order to reduce the computation time we only keep the events we are interested in here (e.g. adds)\n",
    "long_cost = cost.copy()\n",
    "cost = cost[cost['event'].isin(['tv','Retargeting','Contextual'])]\n",
    "print(f\"From {len(long_cost)} to {len(cost)} lines.\")"
   ]
  },
  {
   "cell_type": "markdown",
   "metadata": {},
   "source": [
    "## Preliminary study of cost : \n",
    "\n",
    "How does the cost vary between customer, clusters, media and campaign type ?"
   ]
  },
  {
   "cell_type": "code",
   "execution_count": 8,
   "metadata": {},
   "outputs": [
    {
     "data": {
      "text/plain": [
       "count    4.023497e+06\n",
       "mean     8.028283e+02\n",
       "std      8.881889e+02\n",
       "min      1.083310e+02\n",
       "25%      2.040590e+02\n",
       "50%      4.140120e+02\n",
       "75%      9.857710e+02\n",
       "max      1.133500e+04\n",
       "Name: cost, dtype: float64"
      ]
     },
     "execution_count": 8,
     "metadata": {},
     "output_type": "execute_result"
    }
   ],
   "source": [
    "cost['cost'].describe()"
   ]
  },
  {
   "attachments": {
    "image.png": {
     "image/png": "[encoded data removed]"
    }
   },
   "cell_type": "markdown",
   "metadata": {},
   "source": [
    "![image.png](attachment:image.png)"
   ]
  },
  {
   "cell_type": "code",
   "execution_count": null,
   "metadata": {},
   "outputs": [],
   "source": [
    "# WARNING the code below doesn't load with this data set so we just put a graphic obtained with a smaller data set\n",
    "x = cost['cost']\n",
    "x_min = np.min(x)\n",
    "x_max = np.max(x)\n",
    "middle = np.mean(cost['cost'])\n",
    "sdev = cost['cost'].std()\n",
    "left = middle - sdev\n",
    "right = middle + sdev\n",
    "\n",
    "import numpy as np\n",
    "import seaborn as sns\n",
    "import matplotlib.pyplot as plt\n",
    "\n",
    "# Create the plot\n",
    "fig, ax = plt.subplots(figsize=(8, 6))\n",
    "\n",
    "# KDE plot\n",
    "sns.kdeplot(x, fill=False, color='crimson', ax=ax)\n",
    "kdeline = ax.lines[0]\n",
    "xs = kdeline.get_xdata()\n",
    "ys = kdeline.get_ydata()\n",
    "\n",
    "# Plot mean and standard deviation\n",
    "middle = x.mean()\n",
    "sdev = x.std()\n",
    "left = middle - sdev\n",
    "right = middle + sdev\n",
    "\n",
    "ax.vlines(middle, 0, np.interp(middle, xs, ys), color='crimson', ls=':', label='Mean')\n",
    "ax.fill_between(xs, 0, ys, facecolor='crimson', alpha=0.2)\n",
    "ax.fill_between(xs, 0, ys, where=(left <= xs) & (xs <= right), interpolate=True, facecolor='crimson', alpha=0.2)\n",
    "\n",
    "# Plot median \n",
    "left_q, middle_q, right_q = np.percentile(x, [25, 50, 75])\n",
    "ax.vlines(middle_q, 0, np.interp(middle_q, xs, ys), color='blue', ls=':', label='Median')\n",
    "\n",
    "# Annotate the minimum and maximum values on the curve\n",
    "min_y = np.interp(x_min, xs, ys)\n",
    "max_y = np.interp(x_max, xs, ys)\n",
    "\n",
    "ax.text(x_min, 0.0001, f'Min: {x_min:.2f}', fontsize=10, color='black', ha='right', va='bottom', backgroundcolor='white')\n",
    "ax.text(x_max, 0.0001, f'Max: {x_max:.2f}', fontsize=10, color='black', ha='left', va='top', backgroundcolor='white')\n",
    "\n",
    "# Titles and labels\n",
    "ax.set_title('Cost of an add with Mean and Std')\n",
    "ax.legend()\n",
    "\n",
    "# Show the plot\n",
    "plt.show()\n"
   ]
  },
  {
   "cell_type": "code",
   "execution_count": 10,
   "metadata": {},
   "outputs": [
    {
     "name": "stderr",
     "output_type": "stream",
     "text": [
      "c:\\Users\\guibe\\anaconda3\\envs\\vscode\\Lib\\site-packages\\seaborn\\_oldcore.py:1119: FutureWarning: use_inf_as_na option is deprecated and will be removed in a future version. Convert inf values to NaN before operating instead.\n",
      "  with pd.option_context('mode.use_inf_as_na', True):\n",
      "c:\\Users\\guibe\\anaconda3\\envs\\vscode\\Lib\\site-packages\\seaborn\\_oldcore.py:1119: FutureWarning: use_inf_as_na option is deprecated and will be removed in a future version. Convert inf values to NaN before operating instead.\n",
      "  with pd.option_context('mode.use_inf_as_na', True):\n",
      "c:\\Users\\guibe\\anaconda3\\envs\\vscode\\Lib\\site-packages\\seaborn\\_oldcore.py:1119: FutureWarning: use_inf_as_na option is deprecated and will be removed in a future version. Convert inf values to NaN before operating instead.\n",
      "  with pd.option_context('mode.use_inf_as_na', True):\n"
     ]
    },
    {
     "data": {
      "text/plain": [
       "Text(0.5, 1.0, 'Cost of an add depending on media and campaign type')"
      ]
     },
     "execution_count": 10,
     "metadata": {},
     "output_type": "execute_result"
    },
    {
     "data": {
      "image/png": "[encoded data removed]",
      "text/plain": [
       "<Figure size 640x480 with 1 Axes>"
      ]
     },
     "metadata": {},
     "output_type": "display_data"
    }
   ],
   "source": [
    "# cost for media types\n",
    "sns.kdeplot(cost['cost'], fill=True, label='General add cost')\n",
    "sns.kdeplot(cost[cost['event']=='Retargeting']['cost'], color='green', label='Retargeting cost')\n",
    "sns.kdeplot(cost[cost['event']=='Contextual']['cost'], color='red', label='Conextual cost')\n",
    "plt.legend()\n",
    "plt.title('Cost of an add depending on media and campaign type')"
   ]
  },
  {
   "cell_type": "code",
   "execution_count": null,
   "metadata": {},
   "outputs": [
    {
     "data": {
      "text/html": [
       "<div>\n",
       "<style scoped>\n",
       "    .dataframe tbody tr th:only-of-type {\n",
       "        vertical-align: middle;\n",
       "    }\n",
       "\n",
       "    .dataframe tbody tr th {\n",
       "        vertical-align: top;\n",
       "    }\n",
       "\n",
       "    .dataframe thead th {\n",
       "        text-align: right;\n",
       "    }\n",
       "</style>\n",
       "<table border=\"1\" class=\"dataframe\">\n",
       "  <thead>\n",
       "    <tr style=\"text-align: right;\">\n",
       "      <th></th>\n",
       "      <th>Cluster</th>\n",
       "      <th>count</th>\n",
       "      <th>mean</th>\n",
       "      <th>std</th>\n",
       "      <th>min</th>\n",
       "      <th>25%</th>\n",
       "      <th>50%</th>\n",
       "      <th>75%</th>\n",
       "      <th>max</th>\n",
       "    </tr>\n",
       "  </thead>\n",
       "  <tbody>\n",
       "    <tr>\n",
       "      <th>0</th>\n",
       "      <td>Heavy</td>\n",
       "      <td>423745.0</td>\n",
       "      <td>1040.186847</td>\n",
       "      <td>1139.219591</td>\n",
       "      <td>108.393</td>\n",
       "      <td>223.1480</td>\n",
       "      <td>415.243</td>\n",
       "      <td>2124.438</td>\n",
       "      <td>10808.207</td>\n",
       "    </tr>\n",
       "    <tr>\n",
       "      <th>1</th>\n",
       "      <td>Light</td>\n",
       "      <td>2683055.0</td>\n",
       "      <td>712.521555</td>\n",
       "      <td>777.490769</td>\n",
       "      <td>108.406</td>\n",
       "      <td>194.6545</td>\n",
       "      <td>401.272</td>\n",
       "      <td>835.330</td>\n",
       "      <td>11335.000</td>\n",
       "    </tr>\n",
       "    <tr>\n",
       "      <th>2</th>\n",
       "      <td>Medium</td>\n",
       "      <td>916697.0</td>\n",
       "      <td>957.425007</td>\n",
       "      <td>1009.697665</td>\n",
       "      <td>108.331</td>\n",
       "      <td>225.4050</td>\n",
       "      <td>458.080</td>\n",
       "      <td>1535.047</td>\n",
       "      <td>11335.000</td>\n",
       "    </tr>\n",
       "  </tbody>\n",
       "</table>\n",
       "</div>"
      ],
      "text/plain": [
       "  Cluster      count         mean          std      min       25%      50%  \\\n",
       "0   Heavy   423745.0  1040.186847  1139.219591  108.393  223.1480  415.243   \n",
       "1   Light  2683055.0   712.521555   777.490769  108.406  194.6545  401.272   \n",
       "2  Medium   916697.0   957.425007  1009.697665  108.331  225.4050  458.080   \n",
       "\n",
       "        75%        max  \n",
       "0  2124.438  10808.207  \n",
       "1   835.330  11335.000  \n",
       "2  1535.047  11335.000  "
      ]
     },
     "execution_count": 9,
     "metadata": {},
     "output_type": "execute_result"
    }
   ],
   "source": [
    "# cost for different clusters\n",
    "cost.groupby('Cluster')['cost'].describe().reset_index()"
   ]
  },
  {
   "cell_type": "markdown",
   "metadata": {},
   "source": [
    "# First approach: average unit cost per client\n",
    "\n",
    "$\\frac{\\sum_{i=1}^{n_i} cost_{ij}}{n_i}$, with $cost_{ij}$ the unit cost of add j for customer i "
   ]
  },
  {
   "cell_type": "code",
   "execution_count": null,
   "metadata": {},
   "outputs": [
    {
     "name": "stdout",
     "output_type": "stream",
     "text": [
      "There are 83334 customers who saw more adds then their estimated cap values up to 19.3 times more.\n",
      "The average of the unit costs is 1352.58226378094 milli cent (1168.5526616394666) \n",
      "The average waste for the concerned customers amounts to 0.06984471632793983 dollars while the total waste represent 5820.439590472539.\n"
     ]
    }
   ],
   "source": [
    "cost_agg2 = cost.groupby('customer_id')['cost'].sum().reset_index()\n",
    "waste = cost[['customer_id','num_exposure','Cluster','cap']].merge(cost_agg2).drop_duplicates()\n",
    "waste['unit_cost'] = waste['cost']/waste['num_exposure']\n",
    "waste['waste_flag'] = (waste['cap'] < waste['num_exposure']).astype(int)\n",
    "waste['waste_extend'] = waste['num_exposure'] / waste['cap']\n",
    "print(f\"There are {waste['waste_flag'].sum()} customers who saw more adds then their estimated cap values up to {waste['waste_extend'].max()} times more.\")\n",
    "print(f\"The average of the unit cost is {waste['unit_cost'].mean()} milli cent ({waste['unit_cost'].std()}) \")\n",
    "# let's finally compute the waste value per client and in total over the six months\n",
    "waste['waste_value'] = waste.apply(lambda x : x['unit_cost']*(x['num_exposure'] - x['cap']) if x['waste_flag']==1 else 0, axis=1)\n",
    "print(f\"The average waste for the concerned customers amounts to {waste[waste['waste_flag']==1]['waste_value'].mean()/100000} dollars while the total waste represent {waste['waste_value'].sum()/100000}.\")"
   ]
  },
  {
   "cell_type": "code",
   "execution_count": 13,
   "metadata": {},
   "outputs": [
    {
     "name": "stdout",
     "output_type": "stream",
     "text": [
      "The waste represents 18.0 % of the total media cost, without accounting for the non monetary negative effect of over targeting\n"
     ]
    }
   ],
   "source": [
    "# how much does this represent over the total media budget ? \n",
    "total_cost =waste['waste_value'].sum()/100000\n",
    "media_cost = waste['cost'].sum()/100000\n",
    "print(f\"The waste represents {round((total_cost/media_cost)*100,1)} % of the total media cost, without accounting for the non monetary negative effect of over targeting\")"
   ]
  },
  {
   "cell_type": "markdown",
   "metadata": {},
   "source": [
    "## Second approach: averaging cost at group level\n",
    "\n",
    "$\\frac{\\sum_{i \\in C} \\sum_{i=1}^{n_i} cost_i}{\\sum_{i \\in C} n_i}$"
   ]
  },
  {
   "cell_type": "code",
   "execution_count": 14,
   "metadata": {},
   "outputs": [
    {
     "data": {
      "text/html": [
       "<div>\n",
       "<style scoped>\n",
       "    .dataframe tbody tr th:only-of-type {\n",
       "        vertical-align: middle;\n",
       "    }\n",
       "\n",
       "    .dataframe tbody tr th {\n",
       "        vertical-align: top;\n",
       "    }\n",
       "\n",
       "    .dataframe thead th {\n",
       "        text-align: right;\n",
       "    }\n",
       "</style>\n",
       "<table border=\"1\" class=\"dataframe\">\n",
       "  <thead>\n",
       "    <tr style=\"text-align: right;\">\n",
       "      <th></th>\n",
       "      <th>Cluster</th>\n",
       "      <th>cost</th>\n",
       "      <th>num_exposure</th>\n",
       "      <th>cluster_unit_cost</th>\n",
       "    </tr>\n",
       "  </thead>\n",
       "  <tbody>\n",
       "    <tr>\n",
       "      <th>0</th>\n",
       "      <td>Heavy</td>\n",
       "      <td>4.407740e+08</td>\n",
       "      <td>423745</td>\n",
       "      <td>1040.186847</td>\n",
       "    </tr>\n",
       "    <tr>\n",
       "      <th>1</th>\n",
       "      <td>Light</td>\n",
       "      <td>1.911735e+09</td>\n",
       "      <td>2683055</td>\n",
       "      <td>712.521555</td>\n",
       "    </tr>\n",
       "    <tr>\n",
       "      <th>2</th>\n",
       "      <td>Medium</td>\n",
       "      <td>8.776686e+08</td>\n",
       "      <td>916697</td>\n",
       "      <td>957.425007</td>\n",
       "    </tr>\n",
       "  </tbody>\n",
       "</table>\n",
       "</div>"
      ],
      "text/plain": [
       "  Cluster          cost  num_exposure  cluster_unit_cost\n",
       "0   Heavy  4.407740e+08        423745        1040.186847\n",
       "1   Light  1.911735e+09       2683055         712.521555\n",
       "2  Medium  8.776686e+08        916697         957.425007"
      ]
     },
     "execution_count": 14,
     "metadata": {},
     "output_type": "execute_result"
    }
   ],
   "source": [
    "cluster_cost = waste.groupby('Cluster')[['cost', 'num_exposure']].sum().reset_index()\n",
    "cluster_cost['cluster_unit_cost'] = cluster_cost['cost']/cluster_cost['num_exposure']\n",
    "cluster_cost"
   ]
  },
  {
   "cell_type": "code",
   "execution_count": 15,
   "metadata": {},
   "outputs": [
    {
     "data": {
      "text/html": [
       "<div>\n",
       "<style scoped>\n",
       "    .dataframe tbody tr th:only-of-type {\n",
       "        vertical-align: middle;\n",
       "    }\n",
       "\n",
       "    .dataframe tbody tr th {\n",
       "        vertical-align: top;\n",
       "    }\n",
       "\n",
       "    .dataframe thead th {\n",
       "        text-align: right;\n",
       "    }\n",
       "</style>\n",
       "<table border=\"1\" class=\"dataframe\">\n",
       "  <thead>\n",
       "    <tr style=\"text-align: right;\">\n",
       "      <th></th>\n",
       "      <th>customer_id</th>\n",
       "      <th>num_exposure</th>\n",
       "      <th>Cluster</th>\n",
       "      <th>cap</th>\n",
       "      <th>cost</th>\n",
       "      <th>unit_cost</th>\n",
       "      <th>waste_flag</th>\n",
       "      <th>waste_extend</th>\n",
       "      <th>waste_value</th>\n",
       "      <th>cluster_unit_cost</th>\n",
       "    </tr>\n",
       "  </thead>\n",
       "  <tbody>\n",
       "    <tr>\n",
       "      <th>0</th>\n",
       "      <td>re000fIO9QXTWYjOfn</td>\n",
       "      <td>1</td>\n",
       "      <td>Heavy</td>\n",
       "      <td>40.0</td>\n",
       "      <td>3595.156</td>\n",
       "      <td>3595.156000</td>\n",
       "      <td>0</td>\n",
       "      <td>0.025</td>\n",
       "      <td>0.000000</td>\n",
       "      <td>1040.186847</td>\n",
       "    </tr>\n",
       "    <tr>\n",
       "      <th>1</th>\n",
       "      <td>re000pHbVOysCXRHgt</td>\n",
       "      <td>1</td>\n",
       "      <td>Heavy</td>\n",
       "      <td>40.0</td>\n",
       "      <td>1863.549</td>\n",
       "      <td>1863.549000</td>\n",
       "      <td>0</td>\n",
       "      <td>0.025</td>\n",
       "      <td>0.000000</td>\n",
       "      <td>1040.186847</td>\n",
       "    </tr>\n",
       "    <tr>\n",
       "      <th>2</th>\n",
       "      <td>re001dfhF1iIFRre85</td>\n",
       "      <td>14</td>\n",
       "      <td>Light</td>\n",
       "      <td>10.0</td>\n",
       "      <td>6868.310</td>\n",
       "      <td>490.593571</td>\n",
       "      <td>1</td>\n",
       "      <td>1.400</td>\n",
       "      <td>1962.374286</td>\n",
       "      <td>712.521555</td>\n",
       "    </tr>\n",
       "    <tr>\n",
       "      <th>16</th>\n",
       "      <td>re00256gMWh8xlBxJn</td>\n",
       "      <td>2</td>\n",
       "      <td>Medium</td>\n",
       "      <td>20.0</td>\n",
       "      <td>6250.698</td>\n",
       "      <td>3125.349000</td>\n",
       "      <td>0</td>\n",
       "      <td>0.100</td>\n",
       "      <td>0.000000</td>\n",
       "      <td>957.425007</td>\n",
       "    </tr>\n",
       "    <tr>\n",
       "      <th>18</th>\n",
       "      <td>re002BI64EJvXZLhyr</td>\n",
       "      <td>1</td>\n",
       "      <td>Heavy</td>\n",
       "      <td>40.0</td>\n",
       "      <td>1709.303</td>\n",
       "      <td>1709.303000</td>\n",
       "      <td>0</td>\n",
       "      <td>0.025</td>\n",
       "      <td>0.000000</td>\n",
       "      <td>1040.186847</td>\n",
       "    </tr>\n",
       "  </tbody>\n",
       "</table>\n",
       "</div>"
      ],
      "text/plain": [
       "           customer_id  num_exposure Cluster   cap      cost    unit_cost  \\\n",
       "0   re000fIO9QXTWYjOfn             1   Heavy  40.0  3595.156  3595.156000   \n",
       "1   re000pHbVOysCXRHgt             1   Heavy  40.0  1863.549  1863.549000   \n",
       "2   re001dfhF1iIFRre85            14   Light  10.0  6868.310   490.593571   \n",
       "16  re00256gMWh8xlBxJn             2  Medium  20.0  6250.698  3125.349000   \n",
       "18  re002BI64EJvXZLhyr             1   Heavy  40.0  1709.303  1709.303000   \n",
       "\n",
       "    waste_flag  waste_extend  waste_value  cluster_unit_cost  \n",
       "0            0         0.025     0.000000        1040.186847  \n",
       "1            0         0.025     0.000000        1040.186847  \n",
       "2            1         1.400  1962.374286         712.521555  \n",
       "16           0         0.100     0.000000         957.425007  \n",
       "18           0         0.025     0.000000        1040.186847  "
      ]
     },
     "execution_count": 15,
     "metadata": {},
     "output_type": "execute_result"
    }
   ],
   "source": [
    "waste.loc[waste['Cluster']=='Heavy','cluster_unit_cost'] = cluster_cost[cluster_cost['Cluster']=='Heavy']['cluster_unit_cost'].iloc[0]\n",
    "waste.loc[waste['Cluster']=='Medium','cluster_unit_cost'] = cluster_cost[cluster_cost['Cluster']=='Medium']['cluster_unit_cost'].iloc[0]\n",
    "waste.loc[waste['Cluster']=='Light','cluster_unit_cost'] = cluster_cost[cluster_cost['Cluster']=='Light']['cluster_unit_cost'].iloc[0]\n",
    "waste.head()"
   ]
  },
  {
   "cell_type": "code",
   "execution_count": 16,
   "metadata": {},
   "outputs": [
    {
     "name": "stdout",
     "output_type": "stream",
     "text": [
      "The average waste amounts to 7523.49392048769.\n"
     ]
    }
   ],
   "source": [
    "waste_cluster = waste.apply(lambda x : x['cluster_unit_cost']*(x['num_exposure'] - x['cap']) if x['waste_flag']==1 else 0, axis=1)\n",
    "print(f\"The average waste amounts to {waste_cluster.sum()/100000}.\")"
   ]
  },
  {
   "cell_type": "code",
   "execution_count": 17,
   "metadata": {},
   "outputs": [
    {
     "name": "stdout",
     "output_type": "stream",
     "text": [
      "The waste represents 23.3 % of the total media cost, without accounting for the non monetary negative effect of over targeting\n"
     ]
    }
   ],
   "source": [
    "# how much does this represent over the total media budget ? \n",
    "total_cost = waste_cluster.sum()/100000\n",
    "media_cost = waste['cost'].sum()/100000\n",
    "print(f\"The waste represents {round((total_cost/media_cost)*100,1)} % of the total media cost, without accounting for the non monetary negative effect of over targeting\")\n"
   ]
  },
  {
   "cell_type": "markdown",
   "metadata": {},
   "source": [
    "# Third approach : exact costs\n",
    "\n",
    "$cost_{ij} $ for j $\\geq c_i$"
   ]
  },
  {
   "cell_type": "code",
   "execution_count": 18,
   "metadata": {},
   "outputs": [
    {
     "data": {
      "text/html": [
       "<div>\n",
       "<style scoped>\n",
       "    .dataframe tbody tr th:only-of-type {\n",
       "        vertical-align: middle;\n",
       "    }\n",
       "\n",
       "    .dataframe tbody tr th {\n",
       "        vertical-align: top;\n",
       "    }\n",
       "\n",
       "    .dataframe thead th {\n",
       "        text-align: right;\n",
       "    }\n",
       "</style>\n",
       "<table border=\"1\" class=\"dataframe\">\n",
       "  <thead>\n",
       "    <tr style=\"text-align: right;\">\n",
       "      <th></th>\n",
       "      <th>Unnamed: 0.1</th>\n",
       "      <th>Unnamed: 0</th>\n",
       "      <th>customer_id</th>\n",
       "      <th>date</th>\n",
       "      <th>event</th>\n",
       "      <th>sales</th>\n",
       "      <th>cost</th>\n",
       "      <th>Cluster</th>\n",
       "      <th>num_exposure</th>\n",
       "      <th>cap</th>\n",
       "      <th>count_exposure</th>\n",
       "    </tr>\n",
       "  </thead>\n",
       "  <tbody>\n",
       "    <tr>\n",
       "      <th>0</th>\n",
       "      <td>5821808</td>\n",
       "      <td>0</td>\n",
       "      <td>re000fIO9QXTWYjOfn</td>\n",
       "      <td>2024-01-24 14:25:56</td>\n",
       "      <td>Retargeting</td>\n",
       "      <td>NaN</td>\n",
       "      <td>3595.156</td>\n",
       "      <td>Heavy</td>\n",
       "      <td>1</td>\n",
       "      <td>40.0</td>\n",
       "      <td>1</td>\n",
       "    </tr>\n",
       "    <tr>\n",
       "      <th>28</th>\n",
       "      <td>5821809</td>\n",
       "      <td>1</td>\n",
       "      <td>re000pHbVOysCXRHgt</td>\n",
       "      <td>2024-01-01 18:30:47</td>\n",
       "      <td>Retargeting</td>\n",
       "      <td>NaN</td>\n",
       "      <td>1863.549</td>\n",
       "      <td>Heavy</td>\n",
       "      <td>1</td>\n",
       "      <td>40.0</td>\n",
       "      <td>1</td>\n",
       "    </tr>\n",
       "    <tr>\n",
       "      <th>43</th>\n",
       "      <td>5821810</td>\n",
       "      <td>2</td>\n",
       "      <td>re001dfhF1iIFRre85</td>\n",
       "      <td>2024-03-22 20:43:51</td>\n",
       "      <td>Contextual</td>\n",
       "      <td>NaN</td>\n",
       "      <td>484.667</td>\n",
       "      <td>Light</td>\n",
       "      <td>14</td>\n",
       "      <td>10.0</td>\n",
       "      <td>1</td>\n",
       "    </tr>\n",
       "    <tr>\n",
       "      <th>44</th>\n",
       "      <td>5821811</td>\n",
       "      <td>3</td>\n",
       "      <td>re001dfhF1iIFRre85</td>\n",
       "      <td>2024-03-23 20:30:10</td>\n",
       "      <td>Contextual</td>\n",
       "      <td>NaN</td>\n",
       "      <td>1376.370</td>\n",
       "      <td>Light</td>\n",
       "      <td>14</td>\n",
       "      <td>10.0</td>\n",
       "      <td>2</td>\n",
       "    </tr>\n",
       "    <tr>\n",
       "      <th>45</th>\n",
       "      <td>5821812</td>\n",
       "      <td>4</td>\n",
       "      <td>re001dfhF1iIFRre85</td>\n",
       "      <td>2024-03-26 07:25:09</td>\n",
       "      <td>Contextual</td>\n",
       "      <td>NaN</td>\n",
       "      <td>476.618</td>\n",
       "      <td>Light</td>\n",
       "      <td>14</td>\n",
       "      <td>10.0</td>\n",
       "      <td>3</td>\n",
       "    </tr>\n",
       "    <tr>\n",
       "      <th>46</th>\n",
       "      <td>5821813</td>\n",
       "      <td>5</td>\n",
       "      <td>re001dfhF1iIFRre85</td>\n",
       "      <td>2024-03-27 12:37:31</td>\n",
       "      <td>Contextual</td>\n",
       "      <td>NaN</td>\n",
       "      <td>191.614</td>\n",
       "      <td>Light</td>\n",
       "      <td>14</td>\n",
       "      <td>10.0</td>\n",
       "      <td>4</td>\n",
       "    </tr>\n",
       "    <tr>\n",
       "      <th>47</th>\n",
       "      <td>5821814</td>\n",
       "      <td>6</td>\n",
       "      <td>re001dfhF1iIFRre85</td>\n",
       "      <td>2024-03-28 10:33:59</td>\n",
       "      <td>Contextual</td>\n",
       "      <td>NaN</td>\n",
       "      <td>255.263</td>\n",
       "      <td>Light</td>\n",
       "      <td>14</td>\n",
       "      <td>10.0</td>\n",
       "      <td>5</td>\n",
       "    </tr>\n",
       "    <tr>\n",
       "      <th>48</th>\n",
       "      <td>5821815</td>\n",
       "      <td>7</td>\n",
       "      <td>re001dfhF1iIFRre85</td>\n",
       "      <td>2024-03-29 17:06:09</td>\n",
       "      <td>Contextual</td>\n",
       "      <td>NaN</td>\n",
       "      <td>300.369</td>\n",
       "      <td>Light</td>\n",
       "      <td>14</td>\n",
       "      <td>10.0</td>\n",
       "      <td>6</td>\n",
       "    </tr>\n",
       "    <tr>\n",
       "      <th>49</th>\n",
       "      <td>5821816</td>\n",
       "      <td>8</td>\n",
       "      <td>re001dfhF1iIFRre85</td>\n",
       "      <td>2024-04-04 00:29:42</td>\n",
       "      <td>Contextual</td>\n",
       "      <td>NaN</td>\n",
       "      <td>259.063</td>\n",
       "      <td>Light</td>\n",
       "      <td>14</td>\n",
       "      <td>10.0</td>\n",
       "      <td>7</td>\n",
       "    </tr>\n",
       "    <tr>\n",
       "      <th>50</th>\n",
       "      <td>5821817</td>\n",
       "      <td>9</td>\n",
       "      <td>re001dfhF1iIFRre85</td>\n",
       "      <td>2024-04-05 01:07:43</td>\n",
       "      <td>Contextual</td>\n",
       "      <td>NaN</td>\n",
       "      <td>357.961</td>\n",
       "      <td>Light</td>\n",
       "      <td>14</td>\n",
       "      <td>10.0</td>\n",
       "      <td>8</td>\n",
       "    </tr>\n",
       "    <tr>\n",
       "      <th>51</th>\n",
       "      <td>5821818</td>\n",
       "      <td>10</td>\n",
       "      <td>re001dfhF1iIFRre85</td>\n",
       "      <td>2024-04-07 05:02:43</td>\n",
       "      <td>Contextual</td>\n",
       "      <td>NaN</td>\n",
       "      <td>457.501</td>\n",
       "      <td>Light</td>\n",
       "      <td>14</td>\n",
       "      <td>10.0</td>\n",
       "      <td>9</td>\n",
       "    </tr>\n",
       "    <tr>\n",
       "      <th>52</th>\n",
       "      <td>5821819</td>\n",
       "      <td>11</td>\n",
       "      <td>re001dfhF1iIFRre85</td>\n",
       "      <td>2024-04-08 13:48:35</td>\n",
       "      <td>Contextual</td>\n",
       "      <td>NaN</td>\n",
       "      <td>625.134</td>\n",
       "      <td>Light</td>\n",
       "      <td>14</td>\n",
       "      <td>10.0</td>\n",
       "      <td>10</td>\n",
       "    </tr>\n",
       "    <tr>\n",
       "      <th>53</th>\n",
       "      <td>5821820</td>\n",
       "      <td>12</td>\n",
       "      <td>re001dfhF1iIFRre85</td>\n",
       "      <td>2024-04-11 04:05:17</td>\n",
       "      <td>Contextual</td>\n",
       "      <td>NaN</td>\n",
       "      <td>199.385</td>\n",
       "      <td>Light</td>\n",
       "      <td>14</td>\n",
       "      <td>10.0</td>\n",
       "      <td>11</td>\n",
       "    </tr>\n",
       "    <tr>\n",
       "      <th>54</th>\n",
       "      <td>5821821</td>\n",
       "      <td>13</td>\n",
       "      <td>re001dfhF1iIFRre85</td>\n",
       "      <td>2024-04-15 17:37:35</td>\n",
       "      <td>Contextual</td>\n",
       "      <td>NaN</td>\n",
       "      <td>457.980</td>\n",
       "      <td>Light</td>\n",
       "      <td>14</td>\n",
       "      <td>10.0</td>\n",
       "      <td>12</td>\n",
       "    </tr>\n",
       "    <tr>\n",
       "      <th>55</th>\n",
       "      <td>5821822</td>\n",
       "      <td>14</td>\n",
       "      <td>re001dfhF1iIFRre85</td>\n",
       "      <td>2024-04-18 13:09:10</td>\n",
       "      <td>Contextual</td>\n",
       "      <td>NaN</td>\n",
       "      <td>1184.643</td>\n",
       "      <td>Light</td>\n",
       "      <td>14</td>\n",
       "      <td>10.0</td>\n",
       "      <td>13</td>\n",
       "    </tr>\n",
       "    <tr>\n",
       "      <th>56</th>\n",
       "      <td>5821823</td>\n",
       "      <td>15</td>\n",
       "      <td>re001dfhF1iIFRre85</td>\n",
       "      <td>2024-04-20 03:27:29</td>\n",
       "      <td>Contextual</td>\n",
       "      <td>NaN</td>\n",
       "      <td>241.742</td>\n",
       "      <td>Light</td>\n",
       "      <td>14</td>\n",
       "      <td>10.0</td>\n",
       "      <td>14</td>\n",
       "    </tr>\n",
       "    <tr>\n",
       "      <th>59</th>\n",
       "      <td>5821824</td>\n",
       "      <td>16</td>\n",
       "      <td>re00256gMWh8xlBxJn</td>\n",
       "      <td>2024-05-07 02:58:42</td>\n",
       "      <td>Retargeting</td>\n",
       "      <td>NaN</td>\n",
       "      <td>3310.000</td>\n",
       "      <td>Medium</td>\n",
       "      <td>2</td>\n",
       "      <td>20.0</td>\n",
       "      <td>1</td>\n",
       "    </tr>\n",
       "    <tr>\n",
       "      <th>64</th>\n",
       "      <td>5821825</td>\n",
       "      <td>17</td>\n",
       "      <td>re00256gMWh8xlBxJn</td>\n",
       "      <td>2024-05-27 17:41:44</td>\n",
       "      <td>Retargeting</td>\n",
       "      <td>NaN</td>\n",
       "      <td>2940.698</td>\n",
       "      <td>Medium</td>\n",
       "      <td>2</td>\n",
       "      <td>20.0</td>\n",
       "      <td>2</td>\n",
       "    </tr>\n",
       "    <tr>\n",
       "      <th>71</th>\n",
       "      <td>5821826</td>\n",
       "      <td>18</td>\n",
       "      <td>re002BI64EJvXZLhyr</td>\n",
       "      <td>2024-02-27 22:48:23</td>\n",
       "      <td>Retargeting</td>\n",
       "      <td>NaN</td>\n",
       "      <td>1709.303</td>\n",
       "      <td>Heavy</td>\n",
       "      <td>1</td>\n",
       "      <td>40.0</td>\n",
       "      <td>1</td>\n",
       "    </tr>\n",
       "    <tr>\n",
       "      <th>87</th>\n",
       "      <td>5821827</td>\n",
       "      <td>19</td>\n",
       "      <td>re002l1aOJG3OoCTK8</td>\n",
       "      <td>2024-01-15 21:28:42</td>\n",
       "      <td>Contextual</td>\n",
       "      <td>NaN</td>\n",
       "      <td>153.500</td>\n",
       "      <td>Heavy</td>\n",
       "      <td>2</td>\n",
       "      <td>40.0</td>\n",
       "      <td>1</td>\n",
       "    </tr>\n",
       "  </tbody>\n",
       "</table>\n",
       "</div>"
      ],
      "text/plain": [
       "    Unnamed: 0.1  Unnamed: 0         customer_id                 date  \\\n",
       "0        5821808           0  re000fIO9QXTWYjOfn  2024-01-24 14:25:56   \n",
       "28       5821809           1  re000pHbVOysCXRHgt  2024-01-01 18:30:47   \n",
       "43       5821810           2  re001dfhF1iIFRre85  2024-03-22 20:43:51   \n",
       "44       5821811           3  re001dfhF1iIFRre85  2024-03-23 20:30:10   \n",
       "45       5821812           4  re001dfhF1iIFRre85  2024-03-26 07:25:09   \n",
       "46       5821813           5  re001dfhF1iIFRre85  2024-03-27 12:37:31   \n",
       "47       5821814           6  re001dfhF1iIFRre85  2024-03-28 10:33:59   \n",
       "48       5821815           7  re001dfhF1iIFRre85  2024-03-29 17:06:09   \n",
       "49       5821816           8  re001dfhF1iIFRre85  2024-04-04 00:29:42   \n",
       "50       5821817           9  re001dfhF1iIFRre85  2024-04-05 01:07:43   \n",
       "51       5821818          10  re001dfhF1iIFRre85  2024-04-07 05:02:43   \n",
       "52       5821819          11  re001dfhF1iIFRre85  2024-04-08 13:48:35   \n",
       "53       5821820          12  re001dfhF1iIFRre85  2024-04-11 04:05:17   \n",
       "54       5821821          13  re001dfhF1iIFRre85  2024-04-15 17:37:35   \n",
       "55       5821822          14  re001dfhF1iIFRre85  2024-04-18 13:09:10   \n",
       "56       5821823          15  re001dfhF1iIFRre85  2024-04-20 03:27:29   \n",
       "59       5821824          16  re00256gMWh8xlBxJn  2024-05-07 02:58:42   \n",
       "64       5821825          17  re00256gMWh8xlBxJn  2024-05-27 17:41:44   \n",
       "71       5821826          18  re002BI64EJvXZLhyr  2024-02-27 22:48:23   \n",
       "87       5821827          19  re002l1aOJG3OoCTK8  2024-01-15 21:28:42   \n",
       "\n",
       "          event  sales      cost Cluster  num_exposure   cap  count_exposure  \n",
       "0   Retargeting    NaN  3595.156   Heavy             1  40.0               1  \n",
       "28  Retargeting    NaN  1863.549   Heavy             1  40.0               1  \n",
       "43   Contextual    NaN   484.667   Light            14  10.0               1  \n",
       "44   Contextual    NaN  1376.370   Light            14  10.0               2  \n",
       "45   Contextual    NaN   476.618   Light            14  10.0               3  \n",
       "46   Contextual    NaN   191.614   Light            14  10.0               4  \n",
       "47   Contextual    NaN   255.263   Light            14  10.0               5  \n",
       "48   Contextual    NaN   300.369   Light            14  10.0               6  \n",
       "49   Contextual    NaN   259.063   Light            14  10.0               7  \n",
       "50   Contextual    NaN   357.961   Light            14  10.0               8  \n",
       "51   Contextual    NaN   457.501   Light            14  10.0               9  \n",
       "52   Contextual    NaN   625.134   Light            14  10.0              10  \n",
       "53   Contextual    NaN   199.385   Light            14  10.0              11  \n",
       "54   Contextual    NaN   457.980   Light            14  10.0              12  \n",
       "55   Contextual    NaN  1184.643   Light            14  10.0              13  \n",
       "56   Contextual    NaN   241.742   Light            14  10.0              14  \n",
       "59  Retargeting    NaN  3310.000  Medium             2  20.0               1  \n",
       "64  Retargeting    NaN  2940.698  Medium             2  20.0               2  \n",
       "71  Retargeting    NaN  1709.303   Heavy             1  40.0               1  \n",
       "87   Contextual    NaN   153.500   Heavy             2  40.0               1  "
      ]
     },
     "execution_count": 18,
     "metadata": {},
     "output_type": "execute_result"
    }
   ],
   "source": [
    "# we sort the data frame by date and introduce a variable that counts the number of exposure over time\n",
    "cost3 = cost.sort_values(['customer_id','date'])\n",
    "cost3['count_exposure'] = cost3.groupby('customer_id').cumcount() + 1\n",
    "cost3.head(20)"
   ]
  },
  {
   "cell_type": "code",
   "execution_count": 19,
   "metadata": {},
   "outputs": [
    {
     "name": "stdout",
     "output_type": "stream",
     "text": [
      "There are 83334 customers who saw more adds then their estimated cap values (10.559782250584163 %).\n"
     ]
    }
   ],
   "source": [
    "# now we introduce a flag variable that checks if the cap value was exceeded\n",
    "cost3['waste_flag'] = (cost3['cap'] < cost3['num_exposure']).astype(int)\n",
    "#we indeed get the same number of customers concerned as with the first approach\n",
    "over_adv = (cost3.groupby('customer_id')['waste_flag'].sum()!=0).sum()\n",
    "print(f\"There are {over_adv} customers who saw more adds then their estimated cap values ({(over_adv/cost3['customer_id'].nunique())*100} %).\")"
   ]
  },
  {
   "cell_type": "code",
   "execution_count": 20,
   "metadata": {},
   "outputs": [
    {
     "name": "stdout",
     "output_type": "stream",
     "text": [
      "The average waste for the conserned customers amounts to 0.13524969895756833 dollars while the total waste represent 11270.89841293001.\n"
     ]
    }
   ],
   "source": [
    "# let's calculate the precise waste value\n",
    "cost3['waste_value'] = np.where(cost3['waste_flag'] == 1, cost3['cost'], 0)\n",
    "print(f\"The average waste for the conserned customers amounts to {(cost3[cost3['waste_flag']==1].groupby('customer_id')['waste_value'].sum()).mean()/100000} dollars while the total waste represent {cost3['waste_value'].sum()/100000}.\")"
   ]
  },
  {
   "cell_type": "code",
   "execution_count": 21,
   "metadata": {},
   "outputs": [
    {
     "name": "stdout",
     "output_type": "stream",
     "text": [
      "The waste represents 34.9 % of the total media cost, without accounting for the non monetary negative effect of over targeting\n"
     ]
    }
   ],
   "source": [
    "# how much does this represent over the total media budget ? \n",
    "total_cost =cost3['waste_value'].sum()/100000\n",
    "media_cost = cost3['cost'].sum()/100000\n",
    "print(f\"The waste represents {round((total_cost/media_cost)*100,1)} % of the total media cost, without accounting for the non monetary negative effect of over targeting\")"
   ]
  },
  {
   "cell_type": "markdown",
   "metadata": {},
   "source": [
    "## Inference : estimation of expected waste reduction on the whole data base"
   ]
  },
  {
   "cell_type": "markdown",
   "metadata": {},
   "source": [
    "### Method 1 : using an estimation on the number of customers in total"
   ]
  },
  {
   "cell_type": "code",
   "execution_count": 24,
   "metadata": {},
   "outputs": [
    {
     "name": "stdout",
     "output_type": "stream",
     "text": [
      "There 6.335818663801187 more customers in the 'real' data set so doing a simple cross product we can estimate the waste to around 38014.91198280712 dollars\n"
     ]
    }
   ],
   "source": [
    "# Let's say Hill has at least 5M customers\n",
    "nb_clients = 5000000\n",
    "# it is approximately 6 times more than in our data set\n",
    "size_ratio = nb_clients/cost['customer_id'].nunique()\n",
    "# taking the results from before (waste between 6000 and 11000 dollars)\n",
    "waste = 6000\n",
    "expected_waste1 = size_ratio*waste\n",
    "print(f\"There {size_ratio} more customers in the 'real' data set so doing a simple cross product we can estimate the waste to around {expected_waste1} dollars\")"
   ]
  },
  {
   "cell_type": "markdown",
   "metadata": {},
   "source": [
    "### Method 2 : in probability\n",
    "\n",
    "\\begin{equation*}\n",
    "    E(waste) = N_C \\sum_{c \\in C} cost_c n_c p_{waste,c}\n",
    "\\end{equation*}\n",
    "\n",
    "$N_C$ the number of clients in cluster C approximated with $N_C = p_c * N$ with N the total number of clients (~5M) and $p_c$ the proportion of cluster C customers in the database (presumably (0,1 - 0,4 - 0,5))\n",
    "\n",
    "$n_C$ the average number of adds sent to a customer in group C.\n",
    "\n",
    "$cost_C$ the average cost of an add in cluster C.\n",
    "\n",
    "$p_{waste,C}$ the proportion of an wasted add in cluster C.\n",
    "\n"
   ]
  },
  {
   "cell_type": "code",
   "execution_count": null,
   "metadata": {},
   "outputs": [
    {
     "data": {
      "text/plain": [
       "Cluster\n",
       "Heavy     112143\n",
       "Light     462978\n",
       "Medium    214043\n",
       "Name: customer_id, dtype: int64"
      ]
     },
     "execution_count": 25,
     "metadata": {},
     "output_type": "execute_result"
    }
   ],
   "source": [
    "size_heavy = 112143\n",
    "size_medium = 214043\n",
    "size_light = 462978\n",
    "# as we can see : \n",
    "cost3.groupby('Cluster')['customer_id'].nunique()"
   ]
  },
  {
   "cell_type": "code",
   "execution_count": 27,
   "metadata": {},
   "outputs": [
    {
     "data": {
      "text/plain": [
       "(0.10559782250584163,\n",
       " 0.003005091713258964,\n",
       " 0.036174974187429626,\n",
       " 0.16254336059164798)"
      ]
     },
     "execution_count": 27,
     "metadata": {},
     "output_type": "execute_result"
    }
   ],
   "source": [
    "# probability of over advertising per cluster\n",
    "nb_waste = (cost3.groupby('customer_id')['waste_flag'].sum()!=0).sum()\n",
    "prop_waste = nb_waste/cost['customer_id'].nunique()\n",
    "heavy_waste = (cost3[cost3['Cluster']=='Heavy'].groupby('customer_id')['waste_flag'].sum()!=0).sum() / size_heavy\n",
    "medium_waste = (cost3[cost3['Cluster']=='Medium'].groupby('customer_id')['waste_flag'].sum()!=0).sum() / size_medium\n",
    "light_waste = (cost3[cost3['Cluster']=='Light'].groupby('customer_id')['waste_flag'].sum()!=0).sum() /  size_light # most of the over advertised customers are light\n",
    "prop_waste, heavy_waste, medium_waste, light_waste"
   ]
  },
  {
   "cell_type": "code",
   "execution_count": 28,
   "metadata": {},
   "outputs": [
    {
     "data": {
      "text/plain": [
       "(1040.1868474837463, 957.4250074419356, 712.5215545067097)"
      ]
     },
     "execution_count": 28,
     "metadata": {},
     "output_type": "execute_result"
    }
   ],
   "source": [
    "# average unit cluster cost \n",
    "heavy_cost = cluster_cost[cluster_cost['Cluster']=='Heavy']['cluster_unit_cost'].iloc[0]\n",
    "medium_cost = cluster_cost[cluster_cost['Cluster']=='Medium']['cluster_unit_cost'].iloc[0]\n",
    "light_cost = cluster_cost[cluster_cost['Cluster']=='Light']['cluster_unit_cost'].iloc[0]\n",
    "heavy_cost,medium_cost, light_cost"
   ]
  },
  {
   "cell_type": "code",
   "execution_count": 29,
   "metadata": {},
   "outputs": [],
   "source": [
    "# size of the cluster (in proportion) using the customer segmentation's conclusions\n",
    "heavy_ratio = 0.15\n",
    "medium_ratio = 0.28\n",
    "light_ratio = 0.56"
   ]
  },
  {
   "cell_type": "code",
   "execution_count": 30,
   "metadata": {},
   "outputs": [
    {
     "data": {
      "text/plain": [
       "Cluster\n",
       "Heavy      423745\n",
       "Light     2683055\n",
       "Medium     916697\n",
       "Name: event, dtype: int64"
      ]
     },
     "execution_count": 30,
     "metadata": {},
     "output_type": "execute_result"
    }
   ],
   "source": [
    "# average number of add sent per customer\n",
    "heavy_add = 423748 / size_heavy\n",
    "medium_add = 916698 / size_medium\n",
    "light_add = 2683061/ size_light\n",
    "# as we can see\n",
    "cost3.groupby('Cluster')['event'].count()"
   ]
  },
  {
   "cell_type": "code",
   "execution_count": 32,
   "metadata": {},
   "outputs": [
    {
     "name": "stdout",
     "output_type": "stream",
     "text": [
      "Using this second method, we get an estimation of 20958.22231887909 dollars\n"
     ]
    }
   ],
   "source": [
    "# expected cost : \n",
    "expected_waste2 = heavy_ratio*nb_clients*heavy_waste*heavy_cost*heavy_add + medium_ratio*nb_clients*medium_waste*medium_cost*medium_add + light_ratio*nb_clients*light_waste*light_cost*light_add\n",
    "print(f\"Using this second method, we get an estimation of {expected_waste2/100000} dollars\")"
   ]
  },
  {
   "cell_type": "markdown",
   "metadata": {},
   "source": [
    "## Waste evolution with cap values"
   ]
  },
  {
   "cell_type": "code",
   "execution_count": 33,
   "metadata": {},
   "outputs": [],
   "source": [
    "# let's define a function that takes cap values and returns waste (first approach)\n",
    "def waste1(data, c1,c2,c3) : \n",
    "    # allocate cap values to cluster\n",
    "    data.loc[data['Cluster']=='Heavy','cap'] = c1\n",
    "    data.loc[data['Cluster']=='Medium','cap'] = c2\n",
    "    data.loc[data['Cluster']=='Light','cap'] = c3\n",
    "    # \n",
    "    cost_agg = data.groupby('customer_id')['cost'].sum().reset_index()\n",
    "    waste = data[['customer_id','num_exposure','Cluster','cap']].merge(cost_agg2).drop_duplicates()\n",
    "    waste['unit_cost'] = waste['cost']/waste['num_exposure']\n",
    "    waste['waste_flag'] = (waste['cap'] < waste['num_exposure']).astype(int)\n",
    "    waste['waste_value'] = waste.apply(lambda x : x['unit_cost']*(x['num_exposure'] - x['cap']) if x['waste_flag']==1 else 0, axis=1)\n",
    "    total_waste = waste['waste_value'].sum()/100000\n",
    "    budget = waste['cost'].sum()/100000\n",
    "    return round(total_waste,2), round((total_waste/budget)*100,2)"
   ]
  },
  {
   "cell_type": "code",
   "execution_count": 35,
   "metadata": {},
   "outputs": [
    {
     "data": {
      "text/plain": [
       "((5859.02, 18.14), (2512.02, 7.78), (1179.28, 3.65), (582.53, 1.8))"
      ]
     },
     "execution_count": 35,
     "metadata": {},
     "output_type": "execute_result"
    }
   ],
   "source": [
    "test = cost.copy()\n",
    "waste1(test,30,20,10), waste1(test,40,30,20), waste1(test,50,40,30), waste1(test,60,50,40)"
   ]
  },
  {
   "cell_type": "code",
   "execution_count": 36,
   "metadata": {},
   "outputs": [
    {
     "name": "stdout",
     "output_type": "stream",
     "text": [
      "10 :  (7231.8, 22.39)\n",
      "15 :  (4608.49, 14.27)\n",
      "20 :  (3015.69, 9.34)\n",
      "25 :  (2034.81, 6.3)\n",
      "30 :  (1409.13, 4.36)\n",
      "35 :  (989.72, 3.06)\n",
      "40 :  (701.52, 2.17)\n",
      "45 :  (500.25, 1.55)\n"
     ]
    }
   ],
   "source": [
    "# what if we used the same caping value ?\n",
    "for i in range(10,50,5):\n",
    "    print(f'{i} : ', waste1(test,i,i,i))"
   ]
  },
  {
   "cell_type": "markdown",
   "metadata": {},
   "source": [
    "# Expected sales reduction\n"
   ]
  },
  {
   "cell_type": "markdown",
   "metadata": {},
   "source": [
    "### MEthod 1: \n",
    "\n",
    "Let $d_i$ the threshold date such that $c_i = n_i$, we want to calculate $\\sum_{i=1}^N sales_{ij}$ s.t $d_j \\geq d_i$"
   ]
  },
  {
   "cell_type": "code",
   "execution_count": 37,
   "metadata": {},
   "outputs": [
    {
     "data": {
      "text/html": [
       "<div>\n",
       "<style scoped>\n",
       "    .dataframe tbody tr th:only-of-type {\n",
       "        vertical-align: middle;\n",
       "    }\n",
       "\n",
       "    .dataframe tbody tr th {\n",
       "        vertical-align: top;\n",
       "    }\n",
       "\n",
       "    .dataframe thead th {\n",
       "        text-align: right;\n",
       "    }\n",
       "</style>\n",
       "<table border=\"1\" class=\"dataframe\">\n",
       "  <thead>\n",
       "    <tr style=\"text-align: right;\">\n",
       "      <th></th>\n",
       "      <th>customer_id</th>\n",
       "      <th>threshold_date</th>\n",
       "    </tr>\n",
       "  </thead>\n",
       "  <tbody>\n",
       "    <tr>\n",
       "      <th>52</th>\n",
       "      <td>re001dfhF1iIFRre85</td>\n",
       "      <td>2024-04-08 13:48:35</td>\n",
       "    </tr>\n",
       "    <tr>\n",
       "      <th>222</th>\n",
       "      <td>re005cMgWIsrKLI9Yc</td>\n",
       "      <td>2024-03-09 20:22:52</td>\n",
       "    </tr>\n",
       "    <tr>\n",
       "      <th>441</th>\n",
       "      <td>re008pPsDZTIDQDrNi</td>\n",
       "      <td>2024-02-14 01:55:48</td>\n",
       "    </tr>\n",
       "    <tr>\n",
       "      <th>498</th>\n",
       "      <td>re009OJiALn7OwZElE</td>\n",
       "      <td>2024-01-14 05:10:51</td>\n",
       "    </tr>\n",
       "    <tr>\n",
       "      <th>539</th>\n",
       "      <td>re00AFMuixrsyTbFpP</td>\n",
       "      <td>2024-01-24 13:25:45</td>\n",
       "    </tr>\n",
       "    <tr>\n",
       "      <th>...</th>\n",
       "      <td>...</td>\n",
       "      <td>...</td>\n",
       "    </tr>\n",
       "    <tr>\n",
       "      <th>9844780</th>\n",
       "      <td>rezzjPtSLY2A4A9bss</td>\n",
       "      <td>2024-05-21 06:42:06</td>\n",
       "    </tr>\n",
       "    <tr>\n",
       "      <th>9844803</th>\n",
       "      <td>rezzjbm7UJKfmgEjyq</td>\n",
       "      <td>2024-03-21 01:45:10</td>\n",
       "    </tr>\n",
       "    <tr>\n",
       "      <th>9844892</th>\n",
       "      <td>rezzmsYdSMZiZmwEvh</td>\n",
       "      <td>2024-02-06 00:55:49</td>\n",
       "    </tr>\n",
       "    <tr>\n",
       "      <th>9845009</th>\n",
       "      <td>rezzrANJNxRgBLSngs</td>\n",
       "      <td>2024-01-26 21:52:12</td>\n",
       "    </tr>\n",
       "    <tr>\n",
       "      <th>9845117</th>\n",
       "      <td>rezztz9EJbr9MoRPC8</td>\n",
       "      <td>2024-02-16 04:51:01</td>\n",
       "    </tr>\n",
       "  </tbody>\n",
       "</table>\n",
       "<p>83334 rows × 2 columns</p>\n",
       "</div>"
      ],
      "text/plain": [
       "                customer_id       threshold_date\n",
       "52       re001dfhF1iIFRre85  2024-04-08 13:48:35\n",
       "222      re005cMgWIsrKLI9Yc  2024-03-09 20:22:52\n",
       "441      re008pPsDZTIDQDrNi  2024-02-14 01:55:48\n",
       "498      re009OJiALn7OwZElE  2024-01-14 05:10:51\n",
       "539      re00AFMuixrsyTbFpP  2024-01-24 13:25:45\n",
       "...                     ...                  ...\n",
       "9844780  rezzjPtSLY2A4A9bss  2024-05-21 06:42:06\n",
       "9844803  rezzjbm7UJKfmgEjyq  2024-03-21 01:45:10\n",
       "9844892  rezzmsYdSMZiZmwEvh  2024-02-06 00:55:49\n",
       "9845009  rezzrANJNxRgBLSngs  2024-01-26 21:52:12\n",
       "9845117  rezztz9EJbr9MoRPC8  2024-02-16 04:51:01\n",
       "\n",
       "[83334 rows x 2 columns]"
      ]
     },
     "execution_count": 37,
     "metadata": {},
     "output_type": "execute_result"
    }
   ],
   "source": [
    "# det customer id of those whose caping value was exceed and date of threshold\n",
    "sales_red = cost3[(cost3['waste_flag']!=0) & (cost3['count_exposure']==cost3['cap'])][['customer_id','date']]\n",
    "sales_red.columns = ['customer_id','threshold_date']\n",
    "sales_red"
   ]
  },
  {
   "cell_type": "code",
   "execution_count": 41,
   "metadata": {},
   "outputs": [
    {
     "data": {
      "text/html": [
       "<div>\n",
       "<style scoped>\n",
       "    .dataframe tbody tr th:only-of-type {\n",
       "        vertical-align: middle;\n",
       "    }\n",
       "\n",
       "    .dataframe tbody tr th {\n",
       "        vertical-align: top;\n",
       "    }\n",
       "\n",
       "    .dataframe thead th {\n",
       "        text-align: right;\n",
       "    }\n",
       "</style>\n",
       "<table border=\"1\" class=\"dataframe\">\n",
       "  <thead>\n",
       "    <tr style=\"text-align: right;\">\n",
       "      <th></th>\n",
       "      <th>customer_id</th>\n",
       "      <th>threshold_date</th>\n",
       "      <th>Unnamed: 0.1</th>\n",
       "      <th>Unnamed: 0</th>\n",
       "      <th>date</th>\n",
       "      <th>event</th>\n",
       "      <th>sales</th>\n",
       "      <th>cost</th>\n",
       "      <th>Cluster</th>\n",
       "      <th>num_exposure</th>\n",
       "      <th>cap</th>\n",
       "    </tr>\n",
       "  </thead>\n",
       "  <tbody>\n",
       "    <tr>\n",
       "      <th>2</th>\n",
       "      <td>re00P7bn7CLRbBVyKs</td>\n",
       "      <td>2024-01-27 17:15:43</td>\n",
       "      <td>4963531</td>\n",
       "      <td>8174346</td>\n",
       "      <td>2024-03-18 00:56:48</td>\n",
       "      <td>Order</td>\n",
       "      <td>22.49</td>\n",
       "      <td>NaN</td>\n",
       "      <td>Medium</td>\n",
       "      <td>25</td>\n",
       "      <td>20.0</td>\n",
       "    </tr>\n",
       "    <tr>\n",
       "      <th>3</th>\n",
       "      <td>re00sGmI6sTBf5LWEY</td>\n",
       "      <td>2024-02-27 03:32:45</td>\n",
       "      <td>238002</td>\n",
       "      <td>352223</td>\n",
       "      <td>2024-03-08 19:22:50</td>\n",
       "      <td>Order</td>\n",
       "      <td>58.99</td>\n",
       "      <td>NaN</td>\n",
       "      <td>Medium</td>\n",
       "      <td>46</td>\n",
       "      <td>20.0</td>\n",
       "    </tr>\n",
       "    <tr>\n",
       "      <th>4</th>\n",
       "      <td>re00sGmI6sTBf5LWEY</td>\n",
       "      <td>2024-02-27 03:32:45</td>\n",
       "      <td>238011</td>\n",
       "      <td>352232</td>\n",
       "      <td>2024-03-23 01:24:13</td>\n",
       "      <td>Order</td>\n",
       "      <td>57.99</td>\n",
       "      <td>NaN</td>\n",
       "      <td>Medium</td>\n",
       "      <td>46</td>\n",
       "      <td>20.0</td>\n",
       "    </tr>\n",
       "    <tr>\n",
       "      <th>11</th>\n",
       "      <td>re03XmZDthaTHYjHvC</td>\n",
       "      <td>2024-02-13 18:38:34</td>\n",
       "      <td>2779805</td>\n",
       "      <td>4367237</td>\n",
       "      <td>2024-05-25 21:53:23</td>\n",
       "      <td>Order</td>\n",
       "      <td>49.99</td>\n",
       "      <td>NaN</td>\n",
       "      <td>Medium</td>\n",
       "      <td>21</td>\n",
       "      <td>20.0</td>\n",
       "    </tr>\n",
       "    <tr>\n",
       "      <th>14</th>\n",
       "      <td>re0739jQ7Ab0YN4QOf</td>\n",
       "      <td>2024-01-22 01:23:56</td>\n",
       "      <td>4510213</td>\n",
       "      <td>7343516</td>\n",
       "      <td>2024-03-15 20:54:31</td>\n",
       "      <td>Order</td>\n",
       "      <td>55.99</td>\n",
       "      <td>NaN</td>\n",
       "      <td>Medium</td>\n",
       "      <td>24</td>\n",
       "      <td>20.0</td>\n",
       "    </tr>\n",
       "  </tbody>\n",
       "</table>\n",
       "</div>"
      ],
      "text/plain": [
       "           customer_id       threshold_date  Unnamed: 0.1  Unnamed: 0  \\\n",
       "2   re00P7bn7CLRbBVyKs  2024-01-27 17:15:43       4963531     8174346   \n",
       "3   re00sGmI6sTBf5LWEY  2024-02-27 03:32:45        238002      352223   \n",
       "4   re00sGmI6sTBf5LWEY  2024-02-27 03:32:45        238011      352232   \n",
       "11  re03XmZDthaTHYjHvC  2024-02-13 18:38:34       2779805     4367237   \n",
       "14  re0739jQ7Ab0YN4QOf  2024-01-22 01:23:56       4510213     7343516   \n",
       "\n",
       "                   date  event  sales  cost Cluster  num_exposure   cap  \n",
       "2   2024-03-18 00:56:48  Order  22.49   NaN  Medium            25  20.0  \n",
       "3   2024-03-08 19:22:50  Order  58.99   NaN  Medium            46  20.0  \n",
       "4   2024-03-23 01:24:13  Order  57.99   NaN  Medium            46  20.0  \n",
       "11  2024-05-25 21:53:23  Order  49.99   NaN  Medium            21  20.0  \n",
       "14  2024-03-15 20:54:31  Order  55.99   NaN  Medium            24  20.0  "
      ]
     },
     "execution_count": 41,
     "metadata": {},
     "output_type": "execute_result"
    }
   ],
   "source": [
    "# We merge to get the customer orders details and keep only the events after the threshold date\n",
    "sales_red = sales_red.merge(long_cost[long_cost['event']=='Order'],on='customer_id')\n",
    "sales_red = sales_red[sales_red['date'] >sales_red['threshold_date']]\n",
    "sales_red.head()"
   ]
  },
  {
   "cell_type": "code",
   "execution_count": 42,
   "metadata": {},
   "outputs": [
    {
     "name": "stdout",
     "output_type": "stream",
     "text": [
      "The sales reduction caused by the caping values is 203483.47000000003 $\n"
     ]
    }
   ],
   "source": [
    "reduction = sales_red['sales'].sum()\n",
    "print(f\"The sales reduction caused by the caping values is {reduction} $\")"
   ]
  },
  {
   "cell_type": "markdown",
   "metadata": {},
   "source": [
    "### Method 2: in probability\n",
    "\n",
    "$\\sum_{c \\in C} p_{c, (conversion | d_j \\geq d_i)} \\hat{sales_c}$"
   ]
  },
  {
   "cell_type": "code",
   "execution_count": 43,
   "metadata": {},
   "outputs": [
    {
     "data": {
      "text/html": [
       "<div>\n",
       "<style scoped>\n",
       "    .dataframe tbody tr th:only-of-type {\n",
       "        vertical-align: middle;\n",
       "    }\n",
       "\n",
       "    .dataframe tbody tr th {\n",
       "        vertical-align: top;\n",
       "    }\n",
       "\n",
       "    .dataframe thead th {\n",
       "        text-align: right;\n",
       "    }\n",
       "</style>\n",
       "<table border=\"1\" class=\"dataframe\">\n",
       "  <thead>\n",
       "    <tr style=\"text-align: right;\">\n",
       "      <th></th>\n",
       "      <th>customer_id</th>\n",
       "      <th>Cluster</th>\n",
       "    </tr>\n",
       "  </thead>\n",
       "  <tbody>\n",
       "    <tr>\n",
       "      <th>0</th>\n",
       "      <td>re001dfhF1iIFRre85</td>\n",
       "      <td>Light</td>\n",
       "    </tr>\n",
       "    <tr>\n",
       "      <th>14</th>\n",
       "      <td>re005cMgWIsrKLI9Yc</td>\n",
       "      <td>Medium</td>\n",
       "    </tr>\n",
       "    <tr>\n",
       "      <th>61</th>\n",
       "      <td>re008pPsDZTIDQDrNi</td>\n",
       "      <td>Light</td>\n",
       "    </tr>\n",
       "    <tr>\n",
       "      <th>83</th>\n",
       "      <td>re009OJiALn7OwZElE</td>\n",
       "      <td>Light</td>\n",
       "    </tr>\n",
       "    <tr>\n",
       "      <th>115</th>\n",
       "      <td>re00AFMuixrsyTbFpP</td>\n",
       "      <td>Light</td>\n",
       "    </tr>\n",
       "    <tr>\n",
       "      <th>...</th>\n",
       "      <td>...</td>\n",
       "      <td>...</td>\n",
       "    </tr>\n",
       "    <tr>\n",
       "      <th>1936339</th>\n",
       "      <td>rezzjPtSLY2A4A9bss</td>\n",
       "      <td>Light</td>\n",
       "    </tr>\n",
       "    <tr>\n",
       "      <th>1936360</th>\n",
       "      <td>rezzjbm7UJKfmgEjyq</td>\n",
       "      <td>Light</td>\n",
       "    </tr>\n",
       "    <tr>\n",
       "      <th>1936377</th>\n",
       "      <td>rezzmsYdSMZiZmwEvh</td>\n",
       "      <td>Light</td>\n",
       "    </tr>\n",
       "    <tr>\n",
       "      <th>1936395</th>\n",
       "      <td>rezzrANJNxRgBLSngs</td>\n",
       "      <td>Light</td>\n",
       "    </tr>\n",
       "    <tr>\n",
       "      <th>1936419</th>\n",
       "      <td>rezztz9EJbr9MoRPC8</td>\n",
       "      <td>Light</td>\n",
       "    </tr>\n",
       "  </tbody>\n",
       "</table>\n",
       "<p>83334 rows × 2 columns</p>\n",
       "</div>"
      ],
      "text/plain": [
       "                customer_id Cluster\n",
       "0        re001dfhF1iIFRre85   Light\n",
       "14       re005cMgWIsrKLI9Yc  Medium\n",
       "61       re008pPsDZTIDQDrNi   Light\n",
       "83       re009OJiALn7OwZElE   Light\n",
       "115      re00AFMuixrsyTbFpP   Light\n",
       "...                     ...     ...\n",
       "1936339  rezzjPtSLY2A4A9bss   Light\n",
       "1936360  rezzjbm7UJKfmgEjyq   Light\n",
       "1936377  rezzmsYdSMZiZmwEvh   Light\n",
       "1936395  rezzrANJNxRgBLSngs   Light\n",
       "1936419  rezztz9EJbr9MoRPC8   Light\n",
       "\n",
       "[83334 rows x 2 columns]"
      ]
     },
     "execution_count": 43,
     "metadata": {},
     "output_type": "execute_result"
    }
   ],
   "source": [
    "# to get the over advertised customers and their cluster\n",
    "over_adv = cost3[(cost3['waste_flag']!=0) & (cost3['count_exposure']==cost3['cap'])][['customer_id']]\n",
    "over_adv = over_adv.merge(cost3[['customer_id','Cluster']]).drop_duplicates()\n",
    "over_adv"
   ]
  },
  {
   "cell_type": "code",
   "execution_count": 51,
   "metadata": {},
   "outputs": [
    {
     "data": {
      "text/plain": [
       "(0.026123791009671923,\n",
       " 0.9258160237388724,\n",
       " 0.2192948469585432,\n",
       " 0.0022191511414675633)"
      ]
     },
     "execution_count": 51,
     "metadata": {},
     "output_type": "execute_result"
    }
   ],
   "source": [
    "# probability of conversion after threshold date per cluster\n",
    "nb_conv = sales_red['customer_id'].nunique()/len(over_adv)\n",
    "idx = over_adv['customer_id'].values\n",
    "conv_cluster = sales_red[sales_red['customer_id'].isin(idx)]\n",
    "heavy_conv = len(conv_cluster[conv_cluster['Cluster']=='Heavy'].drop_duplicates('customer_id'))/len(over_adv[over_adv['Cluster']=='Heavy'])\n",
    "medium_conv = len(conv_cluster[conv_cluster['Cluster']=='Medium'].drop_duplicates('customer_id'))/len(over_adv[over_adv['Cluster']=='Medium'])\n",
    "light_conv = len(conv_cluster[conv_cluster['Cluster']=='Light'].drop_duplicates('customer_id'))/len(over_adv[over_adv['Cluster']=='Light'])\n",
    "nb_conv, heavy_conv, medium_conv, light_conv"
   ]
  },
  {
   "cell_type": "code",
   "execution_count": 52,
   "metadata": {},
   "outputs": [
    {
     "data": {
      "text/plain": [
       "(199.2480874419268, 83.07821505232539, 26.573413673450247)"
      ]
     },
     "execution_count": 52,
     "metadata": {},
     "output_type": "execute_result"
    }
   ],
   "source": [
    "# average cart pert cluster (in general)\n",
    "avg_cart = long_cost.copy()\n",
    "avg_cart_heavy = (avg_cart[avg_cart['Cluster']=='Heavy'].groupby('customer_id')['sales'].sum()).sum()/(avg_cart[avg_cart['Cluster']=='Heavy'].groupby('customer_id')['sales'].sum()!=0).sum()\n",
    "avg_cart_medium = (avg_cart[avg_cart['Cluster']=='Medium'].groupby('customer_id')['sales'].sum()).sum()/(avg_cart[avg_cart['Cluster']=='Medium'].groupby('customer_id')['sales'].sum()!=0).sum()\n",
    "avg_cart_light = (avg_cart[avg_cart['Cluster']=='Light'].groupby('customer_id')['sales'].sum()).sum()/(avg_cart[avg_cart['Cluster']=='Light'].groupby('customer_id')['sales'].sum()!=0).sum()\n",
    "avg_cart_heavy, avg_cart_medium, avg_cart_light"
   ]
  },
  {
   "cell_type": "code",
   "execution_count": 54,
   "metadata": {},
   "outputs": [
    {
     "data": {
      "text/plain": [
       "(0.058354978354978354, 0.7577803875513799, 3.880072183552462)"
      ]
     },
     "execution_count": 54,
     "metadata": {},
     "output_type": "execute_result"
    }
   ],
   "source": [
    "#propability of being over advertised\n",
    "over_heavy = len(over_adv[over_adv['Cluster']=='Heavy'])/5775\n",
    "over_medium = len(over_adv[over_adv['Cluster']=='Medium'])/10218\n",
    "over_light = len(over_adv[over_adv['Cluster']=='Light'])/19395\n",
    "over_heavy, over_medium, over_light"
   ]
  },
  {
   "cell_type": "code",
   "execution_count": 55,
   "metadata": {},
   "outputs": [
    {
     "data": {
      "text/plain": [
       "28042098.3939905"
      ]
     },
     "execution_count": 55,
     "metadata": {},
     "output_type": "execute_result"
    }
   ],
   "source": [
    "# expected reduction\n",
    "ex_reduction = heavy_ratio*nb_clients*avg_cart_heavy*heavy_conv*over_heavy + medium_ratio*nb_clients*avg_cart_medium*medium_conv*over_medium + light_ratio*nb_clients*avg_cart_light*light_conv*over_light\n",
    "ex_reduction"
   ]
  },
  {
   "cell_type": "code",
   "execution_count": 56,
   "metadata": {},
   "outputs": [
    {
     "data": {
      "text/plain": [
       "3925893.77515867"
      ]
     },
     "execution_count": 56,
     "metadata": {},
     "output_type": "execute_result"
    }
   ],
   "source": [
    "#here we have \n",
    "heavy_ratio*700000*avg_cart_heavy*heavy_conv*over_heavy + medium_ratio*700000*avg_cart_medium*medium_conv*over_medium + light_ratio*700000*avg_cart_light*light_conv*over_light"
   ]
  },
  {
   "cell_type": "markdown",
   "metadata": {},
   "source": [
    "## Too few adds for some customers ?"
   ]
  },
  {
   "cell_type": "code",
   "execution_count": null,
   "metadata": {},
   "outputs": [],
   "source": [
    "# introduce measure of how much lower the number of adds sent is from the caping value\n",
    "# we consider too low if number of add sent is lower than the caping value of the cluster below \n",
    "# (e.g we are only interested in the most profitabl cstomers, medium and heavy)"
   ]
  },
  {
   "cell_type": "code",
   "execution_count": 58,
   "metadata": {},
   "outputs": [
    {
     "data": {
      "text/html": [
       "<div>\n",
       "<style scoped>\n",
       "    .dataframe tbody tr th:only-of-type {\n",
       "        vertical-align: middle;\n",
       "    }\n",
       "\n",
       "    .dataframe tbody tr th {\n",
       "        vertical-align: top;\n",
       "    }\n",
       "\n",
       "    .dataframe thead th {\n",
       "        text-align: right;\n",
       "    }\n",
       "</style>\n",
       "<table border=\"1\" class=\"dataframe\">\n",
       "  <thead>\n",
       "    <tr style=\"text-align: right;\">\n",
       "      <th></th>\n",
       "      <th>Unnamed: 0.1</th>\n",
       "      <th>Unnamed: 0</th>\n",
       "      <th>customer_id</th>\n",
       "      <th>date</th>\n",
       "      <th>event</th>\n",
       "      <th>sales</th>\n",
       "      <th>cost</th>\n",
       "      <th>Cluster</th>\n",
       "      <th>num_exposure</th>\n",
       "      <th>cap</th>\n",
       "      <th>low_adv_flag</th>\n",
       "    </tr>\n",
       "  </thead>\n",
       "  <tbody>\n",
       "    <tr>\n",
       "      <th>0</th>\n",
       "      <td>5821808</td>\n",
       "      <td>0</td>\n",
       "      <td>re000fIO9QXTWYjOfn</td>\n",
       "      <td>2024-01-24 14:25:56</td>\n",
       "      <td>Retargeting</td>\n",
       "      <td>NaN</td>\n",
       "      <td>3595.156</td>\n",
       "      <td>Heavy</td>\n",
       "      <td>1</td>\n",
       "      <td>40.0</td>\n",
       "      <td>1</td>\n",
       "    </tr>\n",
       "    <tr>\n",
       "      <th>28</th>\n",
       "      <td>5821809</td>\n",
       "      <td>1</td>\n",
       "      <td>re000pHbVOysCXRHgt</td>\n",
       "      <td>2024-01-01 18:30:47</td>\n",
       "      <td>Retargeting</td>\n",
       "      <td>NaN</td>\n",
       "      <td>1863.549</td>\n",
       "      <td>Heavy</td>\n",
       "      <td>1</td>\n",
       "      <td>40.0</td>\n",
       "      <td>1</td>\n",
       "    </tr>\n",
       "    <tr>\n",
       "      <th>59</th>\n",
       "      <td>5821824</td>\n",
       "      <td>16</td>\n",
       "      <td>re00256gMWh8xlBxJn</td>\n",
       "      <td>2024-05-07 02:58:42</td>\n",
       "      <td>Retargeting</td>\n",
       "      <td>NaN</td>\n",
       "      <td>3310.000</td>\n",
       "      <td>Medium</td>\n",
       "      <td>2</td>\n",
       "      <td>20.0</td>\n",
       "      <td>1</td>\n",
       "    </tr>\n",
       "    <tr>\n",
       "      <th>64</th>\n",
       "      <td>5821825</td>\n",
       "      <td>17</td>\n",
       "      <td>re00256gMWh8xlBxJn</td>\n",
       "      <td>2024-05-27 17:41:44</td>\n",
       "      <td>Retargeting</td>\n",
       "      <td>NaN</td>\n",
       "      <td>2940.698</td>\n",
       "      <td>Medium</td>\n",
       "      <td>2</td>\n",
       "      <td>20.0</td>\n",
       "      <td>1</td>\n",
       "    </tr>\n",
       "    <tr>\n",
       "      <th>71</th>\n",
       "      <td>5821826</td>\n",
       "      <td>18</td>\n",
       "      <td>re002BI64EJvXZLhyr</td>\n",
       "      <td>2024-02-27 22:48:23</td>\n",
       "      <td>Retargeting</td>\n",
       "      <td>NaN</td>\n",
       "      <td>1709.303</td>\n",
       "      <td>Heavy</td>\n",
       "      <td>1</td>\n",
       "      <td>40.0</td>\n",
       "      <td>1</td>\n",
       "    </tr>\n",
       "    <tr>\n",
       "      <th>...</th>\n",
       "      <td>...</td>\n",
       "      <td>...</td>\n",
       "      <td>...</td>\n",
       "      <td>...</td>\n",
       "      <td>...</td>\n",
       "      <td>...</td>\n",
       "      <td>...</td>\n",
       "      <td>...</td>\n",
       "      <td>...</td>\n",
       "      <td>...</td>\n",
       "      <td>...</td>\n",
       "    </tr>\n",
       "    <tr>\n",
       "      <th>9845227</th>\n",
       "      <td>9845282</td>\n",
       "      <td>4023484</td>\n",
       "      <td>rezzxDmygQV4OoBFA8</td>\n",
       "      <td>2024-03-07 01:45:49</td>\n",
       "      <td>Retargeting</td>\n",
       "      <td>NaN</td>\n",
       "      <td>557.175</td>\n",
       "      <td>Heavy</td>\n",
       "      <td>9</td>\n",
       "      <td>40.0</td>\n",
       "      <td>1</td>\n",
       "    </tr>\n",
       "    <tr>\n",
       "      <th>9845245</th>\n",
       "      <td>9845287</td>\n",
       "      <td>4023489</td>\n",
       "      <td>rezzxrPFWJvugyHGNt</td>\n",
       "      <td>2024-05-23 11:16:09</td>\n",
       "      <td>Retargeting</td>\n",
       "      <td>NaN</td>\n",
       "      <td>1961.659</td>\n",
       "      <td>Medium</td>\n",
       "      <td>1</td>\n",
       "      <td>20.0</td>\n",
       "      <td>1</td>\n",
       "    </tr>\n",
       "    <tr>\n",
       "      <th>9845255</th>\n",
       "      <td>9845288</td>\n",
       "      <td>4023490</td>\n",
       "      <td>rezzy9WDlKKXpU2czE</td>\n",
       "      <td>2024-02-03 21:35:08</td>\n",
       "      <td>Retargeting</td>\n",
       "      <td>NaN</td>\n",
       "      <td>2698.591</td>\n",
       "      <td>Medium</td>\n",
       "      <td>1</td>\n",
       "      <td>20.0</td>\n",
       "      <td>1</td>\n",
       "    </tr>\n",
       "    <tr>\n",
       "      <th>9845267</th>\n",
       "      <td>9845289</td>\n",
       "      <td>4023491</td>\n",
       "      <td>rezzy9gd2vJOezrAWg</td>\n",
       "      <td>2024-06-19 05:19:36</td>\n",
       "      <td>Retargeting</td>\n",
       "      <td>NaN</td>\n",
       "      <td>339.680</td>\n",
       "      <td>Medium</td>\n",
       "      <td>1</td>\n",
       "      <td>20.0</td>\n",
       "      <td>1</td>\n",
       "    </tr>\n",
       "    <tr>\n",
       "      <th>9845291</th>\n",
       "      <td>9845299</td>\n",
       "      <td>4023501</td>\n",
       "      <td>rezzz8WfdxS4BBGCo8</td>\n",
       "      <td>2024-02-28 23:12:43</td>\n",
       "      <td>Retargeting</td>\n",
       "      <td>NaN</td>\n",
       "      <td>2240.000</td>\n",
       "      <td>Medium</td>\n",
       "      <td>1</td>\n",
       "      <td>20.0</td>\n",
       "      <td>1</td>\n",
       "    </tr>\n",
       "  </tbody>\n",
       "</table>\n",
       "<p>1340442 rows × 11 columns</p>\n",
       "</div>"
      ],
      "text/plain": [
       "         Unnamed: 0.1  Unnamed: 0         customer_id                 date  \\\n",
       "0             5821808           0  re000fIO9QXTWYjOfn  2024-01-24 14:25:56   \n",
       "28            5821809           1  re000pHbVOysCXRHgt  2024-01-01 18:30:47   \n",
       "59            5821824          16  re00256gMWh8xlBxJn  2024-05-07 02:58:42   \n",
       "64            5821825          17  re00256gMWh8xlBxJn  2024-05-27 17:41:44   \n",
       "71            5821826          18  re002BI64EJvXZLhyr  2024-02-27 22:48:23   \n",
       "...               ...         ...                 ...                  ...   \n",
       "9845227       9845282     4023484  rezzxDmygQV4OoBFA8  2024-03-07 01:45:49   \n",
       "9845245       9845287     4023489  rezzxrPFWJvugyHGNt  2024-05-23 11:16:09   \n",
       "9845255       9845288     4023490  rezzy9WDlKKXpU2czE  2024-02-03 21:35:08   \n",
       "9845267       9845289     4023491  rezzy9gd2vJOezrAWg  2024-06-19 05:19:36   \n",
       "9845291       9845299     4023501  rezzz8WfdxS4BBGCo8  2024-02-28 23:12:43   \n",
       "\n",
       "               event  sales      cost Cluster  num_exposure   cap  \\\n",
       "0        Retargeting    NaN  3595.156   Heavy             1  40.0   \n",
       "28       Retargeting    NaN  1863.549   Heavy             1  40.0   \n",
       "59       Retargeting    NaN  3310.000  Medium             2  20.0   \n",
       "64       Retargeting    NaN  2940.698  Medium             2  20.0   \n",
       "71       Retargeting    NaN  1709.303   Heavy             1  40.0   \n",
       "...              ...    ...       ...     ...           ...   ...   \n",
       "9845227  Retargeting    NaN   557.175   Heavy             9  40.0   \n",
       "9845245  Retargeting    NaN  1961.659  Medium             1  20.0   \n",
       "9845255  Retargeting    NaN  2698.591  Medium             1  20.0   \n",
       "9845267  Retargeting    NaN   339.680  Medium             1  20.0   \n",
       "9845291  Retargeting    NaN  2240.000  Medium             1  20.0   \n",
       "\n",
       "         low_adv_flag  \n",
       "0                   1  \n",
       "28                  1  \n",
       "59                  1  \n",
       "64                  1  \n",
       "71                  1  \n",
       "...               ...  \n",
       "9845227             1  \n",
       "9845245             1  \n",
       "9845255             1  \n",
       "9845267             1  \n",
       "9845291             1  \n",
       "\n",
       "[1340442 rows x 11 columns]"
      ]
     },
     "execution_count": 58,
     "metadata": {},
     "output_type": "execute_result"
    }
   ],
   "source": [
    "opti_add = cost[cost['Cluster'].isin(['Heavy','Medium'])].copy()\n",
    "def low_add(x):\n",
    "    cap_medium = 30\n",
    "    cap_light = 20\n",
    "    flag = 0\n",
    "    if x['Cluster']=='Heavy' :\n",
    "        if x['num_exposure'] < cap_medium : \n",
    "            flag = 1\n",
    "    if x['Cluster']=='Medium' : \n",
    "        if x['num_exposure'] < cap_light : \n",
    "            flag = 1\n",
    "    return flag\n",
    "\n",
    "opti_add['low_adv_flag'] = opti_add.apply(lambda x : low_add(x), axis=1)\n",
    "opti_add"
   ]
  },
  {
   "cell_type": "code",
   "execution_count": 59,
   "metadata": {},
   "outputs": [
    {
     "name": "stdout",
     "output_type": "stream",
     "text": [
      "there are 316755 customers treated as if they belonged to the below cluster out of 326186\n"
     ]
    }
   ],
   "source": [
    "print(f\"there are {(opti_add.groupby('customer_id')['low_adv_flag'].sum()!=0).sum()} customers treated as if they belonged to the below cluster out of {len(opti_add.drop_duplicates(subset=['customer_id']))}\")"
   ]
  }
 ],
 "metadata": {
  "kernelspec": {
   "display_name": "vscode",
   "language": "python",
   "name": "python3"
  },
  "language_info": {
   "codemirror_mode": {
    "name": "ipython",
    "version": 3
   },
   "file_extension": ".py",
   "mimetype": "text/x-python",
   "name": "python",
   "nbconvert_exporter": "python",
   "pygments_lexer": "ipython3",
   "version": "3.11.9"
  }
 },
 "nbformat": 4,
 "nbformat_minor": 2
}
