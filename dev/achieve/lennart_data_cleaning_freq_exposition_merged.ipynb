{
 "cells": [
  {
   "cell_type": "code",
   "execution_count": 1,
   "metadata": {},
   "outputs": [],
   "source": [
    "import pandas as pd\n",
    "import numpy as np\n",
    "import matplotlib.pyplot as plt\n",
    "\n",
    "from sklearn.model_selection import train_test_split\n",
    "from sklearn.model_selection import GridSearchCV\n",
    "from sklearn.preprocessing import OneHotEncoder\n",
    "from sklearn.preprocessing import MinMaxScaler\n",
    "from sklearn.compose import ColumnTransformer\n",
    "from sklearn.pipeline import Pipeline\n",
    "from sklearn.impute import SimpleImputer\n",
    "from sklearn.metrics import confusion_matrix, ConfusionMatrixDisplay, f1_score, make_scorer\n",
    "from sklearn.preprocessing import MaxAbsScaler\n",
    "\n",
    "from sklearn.svm import SVC\n",
    "from sklearn.ensemble import RandomForestClassifier\n",
    "from sklearn.ensemble import GradientBoostingClassifier\n",
    "from sklearn.linear_model import LogisticRegression\n",
    "from sklearn.feature_selection import SelectKBest, f_classif\n",
    "\n",
    "from sklearn.metrics import classification_report, accuracy_score, precision_score, recall_score, f1_score\n",
    "\n",
    "from imblearn.over_sampling import *\n",
    "from imblearn.under_sampling import RandomUnderSampler\n",
    "from imblearn.pipeline import Pipeline\n",
    "\n",
    "import cartopy.crs as ccrs\n",
    "import cartopy.feature as cfeature"
   ]
  },
  {
   "cell_type": "code",
   "execution_count": 2,
   "metadata": {},
   "outputs": [],
   "source": [
    "df = pd.read_csv('freq_exposition_merged.csv')"
   ]
  },
  {
   "cell_type": "code",
   "execution_count": 6,
   "metadata": {},
   "outputs": [
    {
     "name": "stdout",
     "output_type": "stream",
     "text": [
      "<class 'pandas.core.frame.DataFrame'>\n",
      "RangeIndex: 304643 entries, 0 to 304642\n",
      "Data columns (total 7 columns):\n",
      " #   Column       Non-Null Count   Dtype \n",
      "---  ------       --------------   ----- \n",
      " 0   Unnamed: 0   304643 non-null  int64 \n",
      " 1   device_id    304643 non-null  object\n",
      " 2   freq_tv      304643 non-null  int64 \n",
      " 3   customer_id  304643 non-null  object\n",
      " 4   dsp_id       304643 non-null  object\n",
      " 5   freq_prog    304643 non-null  int64 \n",
      " 6   freq_totale  304643 non-null  int64 \n",
      "dtypes: int64(4), object(3)\n",
      "memory usage: 16.3+ MB\n",
      "None\n"
     ]
    }
   ],
   "source": [
    "print(df.info())"
   ]
  },
  {
   "cell_type": "code",
   "execution_count": 4,
   "metadata": {},
   "outputs": [
    {
     "data": {
      "text/html": [
       "<div>\n",
       "<style scoped>\n",
       "    .dataframe tbody tr th:only-of-type {\n",
       "        vertical-align: middle;\n",
       "    }\n",
       "\n",
       "    .dataframe tbody tr th {\n",
       "        vertical-align: top;\n",
       "    }\n",
       "\n",
       "    .dataframe thead th {\n",
       "        text-align: right;\n",
       "    }\n",
       "</style>\n",
       "<table border=\"1\" class=\"dataframe\">\n",
       "  <thead>\n",
       "    <tr style=\"text-align: right;\">\n",
       "      <th></th>\n",
       "      <th>Unnamed: 0</th>\n",
       "      <th>device_id</th>\n",
       "      <th>freq_tv</th>\n",
       "      <th>customer_id</th>\n",
       "      <th>dsp_id</th>\n",
       "      <th>freq_prog</th>\n",
       "      <th>freq_totale</th>\n",
       "    </tr>\n",
       "  </thead>\n",
       "  <tbody>\n",
       "    <tr>\n",
       "      <th>0</th>\n",
       "      <td>0</td>\n",
       "      <td>ctvceVre0gss</td>\n",
       "      <td>176</td>\n",
       "      <td>reqj9RuetsgCHMa2w8</td>\n",
       "      <td>dspRT5HMTBd3tyExecubALRkX3BVhp</td>\n",
       "      <td>1</td>\n",
       "      <td>177</td>\n",
       "    </tr>\n",
       "    <tr>\n",
       "      <th>1</th>\n",
       "      <td>1</td>\n",
       "      <td>ctvRiAzNYc1H</td>\n",
       "      <td>162</td>\n",
       "      <td>re7X8X0rjcURs14vA6</td>\n",
       "      <td>dsp2tT9UOLnErzRcB6MAXNy6f1c80S</td>\n",
       "      <td>1</td>\n",
       "      <td>163</td>\n",
       "    </tr>\n",
       "    <tr>\n",
       "      <th>2</th>\n",
       "      <td>2</td>\n",
       "      <td>ctvKRDtD19Gk</td>\n",
       "      <td>158</td>\n",
       "      <td>re2PryTh40NSd29s4Y</td>\n",
       "      <td>dsp3j3r8rzWCRrz2RO4GhjQKivsAja</td>\n",
       "      <td>2</td>\n",
       "      <td>160</td>\n",
       "    </tr>\n",
       "    <tr>\n",
       "      <th>3</th>\n",
       "      <td>3</td>\n",
       "      <td>ctvzIJSitXKZ</td>\n",
       "      <td>145</td>\n",
       "      <td>relpt6ZhYPbNY2tS6y</td>\n",
       "      <td>dspwj2Bp49rZtzg8aEBN8yhKZJCags</td>\n",
       "      <td>7</td>\n",
       "      <td>152</td>\n",
       "    </tr>\n",
       "    <tr>\n",
       "      <th>4</th>\n",
       "      <td>4</td>\n",
       "      <td>ctvTtJGgmLe9</td>\n",
       "      <td>138</td>\n",
       "      <td>reXEdbSXExnQw6I8h2</td>\n",
       "      <td>dspngZN1p5lHTeE4uDNBepIR5lPDJb</td>\n",
       "      <td>1</td>\n",
       "      <td>139</td>\n",
       "    </tr>\n",
       "    <tr>\n",
       "      <th>5</th>\n",
       "      <td>5</td>\n",
       "      <td>ctvCOu6stujo</td>\n",
       "      <td>132</td>\n",
       "      <td>rec7Qe7PrBfuspzDya</td>\n",
       "      <td>dspP8d1Ls4zoQiMxnfuwE1nAOVgKvW</td>\n",
       "      <td>2</td>\n",
       "      <td>134</td>\n",
       "    </tr>\n",
       "    <tr>\n",
       "      <th>6</th>\n",
       "      <td>6</td>\n",
       "      <td>ctvOrQd6OydS</td>\n",
       "      <td>130</td>\n",
       "      <td>reVQGmqLwKyEcEjR02</td>\n",
       "      <td>dspL81xypF0B9UNs6zKIeV9TaooJNQ</td>\n",
       "      <td>5</td>\n",
       "      <td>135</td>\n",
       "    </tr>\n",
       "    <tr>\n",
       "      <th>7</th>\n",
       "      <td>7</td>\n",
       "      <td>ctvBpqYjSxew</td>\n",
       "      <td>129</td>\n",
       "      <td>redOw4IiMdI03q1dIr</td>\n",
       "      <td>dspGGRt5KUiPnOFHHQIzSoI9h4ST1f</td>\n",
       "      <td>1</td>\n",
       "      <td>130</td>\n",
       "    </tr>\n",
       "    <tr>\n",
       "      <th>8</th>\n",
       "      <td>8</td>\n",
       "      <td>ctvXCJZOvBhC</td>\n",
       "      <td>126</td>\n",
       "      <td>reMxxz95rFXFTRjdy5</td>\n",
       "      <td>dspvxxPgDf1dXmxesVB9zXE4b3SPgu</td>\n",
       "      <td>1</td>\n",
       "      <td>127</td>\n",
       "    </tr>\n",
       "    <tr>\n",
       "      <th>9</th>\n",
       "      <td>9</td>\n",
       "      <td>ctvjfIedbM4e</td>\n",
       "      <td>125</td>\n",
       "      <td>reoPr38WIqtfI1V4bu</td>\n",
       "      <td>dspjAX6oGfVELACk5f03OLxu2SbiYN</td>\n",
       "      <td>1</td>\n",
       "      <td>126</td>\n",
       "    </tr>\n",
       "  </tbody>\n",
       "</table>\n",
       "</div>"
      ],
      "text/plain": [
       "   Unnamed: 0     device_id  freq_tv         customer_id  \\\n",
       "0           0  ctvceVre0gss      176  reqj9RuetsgCHMa2w8   \n",
       "1           1  ctvRiAzNYc1H      162  re7X8X0rjcURs14vA6   \n",
       "2           2  ctvKRDtD19Gk      158  re2PryTh40NSd29s4Y   \n",
       "3           3  ctvzIJSitXKZ      145  relpt6ZhYPbNY2tS6y   \n",
       "4           4  ctvTtJGgmLe9      138  reXEdbSXExnQw6I8h2   \n",
       "5           5  ctvCOu6stujo      132  rec7Qe7PrBfuspzDya   \n",
       "6           6  ctvOrQd6OydS      130  reVQGmqLwKyEcEjR02   \n",
       "7           7  ctvBpqYjSxew      129  redOw4IiMdI03q1dIr   \n",
       "8           8  ctvXCJZOvBhC      126  reMxxz95rFXFTRjdy5   \n",
       "9           9  ctvjfIedbM4e      125  reoPr38WIqtfI1V4bu   \n",
       "\n",
       "                           dsp_id  freq_prog  freq_totale  \n",
       "0  dspRT5HMTBd3tyExecubALRkX3BVhp          1          177  \n",
       "1  dsp2tT9UOLnErzRcB6MAXNy6f1c80S          1          163  \n",
       "2  dsp3j3r8rzWCRrz2RO4GhjQKivsAja          2          160  \n",
       "3  dspwj2Bp49rZtzg8aEBN8yhKZJCags          7          152  \n",
       "4  dspngZN1p5lHTeE4uDNBepIR5lPDJb          1          139  \n",
       "5  dspP8d1Ls4zoQiMxnfuwE1nAOVgKvW          2          134  \n",
       "6  dspL81xypF0B9UNs6zKIeV9TaooJNQ          5          135  \n",
       "7  dspGGRt5KUiPnOFHHQIzSoI9h4ST1f          1          130  \n",
       "8  dspvxxPgDf1dXmxesVB9zXE4b3SPgu          1          127  \n",
       "9  dspjAX6oGfVELACk5f03OLxu2SbiYN          1          126  "
      ]
     },
     "metadata": {},
     "output_type": "display_data"
    }
   ],
   "source": [
    "display(df.head(10))"
   ]
  },
  {
   "cell_type": "markdown",
   "metadata": {},
   "source": [
    "## Data Cleanning"
   ]
  },
  {
   "cell_type": "code",
   "execution_count": 7,
   "metadata": {},
   "outputs": [
    {
     "name": "stdout",
     "output_type": "stream",
     "text": [
      "Unnamed: 0      int64\n",
      "device_id      object\n",
      "freq_tv         int64\n",
      "customer_id    object\n",
      "dsp_id         object\n",
      "freq_prog       int64\n",
      "freq_totale     int64\n",
      "dtype: object\n",
      "Unnamed: 0     304643\n",
      "device_id      304643\n",
      "freq_tv           121\n",
      "customer_id    304643\n",
      "dsp_id         304643\n",
      "freq_prog          95\n",
      "freq_totale       131\n",
      "dtype: int64\n"
     ]
    }
   ],
   "source": [
    "print(df.dtypes)\n",
    "print(df.nunique())"
   ]
  },
  {
   "cell_type": "markdown",
   "metadata": {},
   "source": [
    "### Missing Values"
   ]
  },
  {
   "cell_type": "code",
   "execution_count": 8,
   "metadata": {},
   "outputs": [
    {
     "name": "stdout",
     "output_type": "stream",
     "text": [
      "             Missing Count  Missing Percentage (%)\n",
      "Unnamed: 0               0                     0.0\n",
      "device_id                0                     0.0\n",
      "freq_tv                  0                     0.0\n",
      "customer_id              0                     0.0\n",
      "dsp_id                   0                     0.0\n",
      "freq_prog                0                     0.0\n",
      "freq_totale              0                     0.0\n"
     ]
    }
   ],
   "source": [
    "def count_missing_values_summary(df):\n",
    "    missing_counts = df.isnull().sum()\n",
    "    missing_percentage = (missing_counts / len(df)) * 100\n",
    "    missing_columns = missing_counts[missing_counts > 0]\n",
    "    missing_summary = pd.DataFrame({\n",
    "        'Missing Count': missing_counts,\n",
    "        'Missing Percentage (%)': missing_percentage}\n",
    "    ).sort_values(by='Missing Count', ascending=False)\n",
    "    \n",
    "    return missing_summary\n",
    "\n",
    "# Example usage\n",
    "summary = count_missing_values_summary(df)\n",
    "print(summary)"
   ]
  }
 ],
 "metadata": {
  "kernelspec": {
   "display_name": "base",
   "language": "python",
   "name": "python3"
  },
  "language_info": {
   "codemirror_mode": {
    "name": "ipython",
    "version": 3
   },
   "file_extension": ".py",
   "mimetype": "text/x-python",
   "name": "python",
   "nbconvert_exporter": "python",
   "pygments_lexer": "ipython3",
   "version": "3.11.7"
  }
 },
 "nbformat": 4,
 "nbformat_minor": 2
}
