{
 "cells": [
  {
   "cell_type": "code",
   "execution_count": 10,
   "metadata": {},
   "outputs": [],
   "source": [
    "import pandas as pd\n",
    "import numpy as np\n",
    "import matplotlib.pyplot as plt\n",
    "\n",
    "from sklearn.model_selection import train_test_split\n",
    "from sklearn.model_selection import GridSearchCV\n",
    "from sklearn.preprocessing import OneHotEncoder\n",
    "from sklearn.preprocessing import MinMaxScaler\n",
    "from sklearn.compose import ColumnTransformer\n",
    "from sklearn.pipeline import Pipeline\n",
    "from sklearn.impute import SimpleImputer\n",
    "from sklearn.metrics import confusion_matrix, ConfusionMatrixDisplay, f1_score, make_scorer\n",
    "from sklearn.preprocessing import MaxAbsScaler\n",
    "\n",
    "from sklearn.svm import SVC\n",
    "from sklearn.ensemble import RandomForestClassifier\n",
    "from sklearn.ensemble import GradientBoostingClassifier\n",
    "from sklearn.linear_model import LogisticRegression\n",
    "from sklearn.feature_selection import SelectKBest, f_classif\n",
    "\n",
    "from sklearn.metrics import classification_report, accuracy_score, precision_score, recall_score, f1_score\n",
    "\n",
    "from imblearn.over_sampling import *\n",
    "from imblearn.under_sampling import RandomUnderSampler\n",
    "from imblearn.pipeline import Pipeline\n",
    "\n",
    "import cartopy.crs as ccrs\n",
    "import cartopy.feature as cfeature\n",
    "\n",
    "import seaborn as sns"
   ]
  },
  {
   "cell_type": "code",
   "execution_count": 11,
   "metadata": {},
   "outputs": [
    {
     "data": {
      "text/html": [
       "<div>\n",
       "<style scoped>\n",
       "    .dataframe tbody tr th:only-of-type {\n",
       "        vertical-align: middle;\n",
       "    }\n",
       "\n",
       "    .dataframe tbody tr th {\n",
       "        vertical-align: top;\n",
       "    }\n",
       "\n",
       "    .dataframe thead th {\n",
       "        text-align: right;\n",
       "    }\n",
       "</style>\n",
       "<table border=\"1\" class=\"dataframe\">\n",
       "  <thead>\n",
       "    <tr style=\"text-align: right;\">\n",
       "      <th></th>\n",
       "      <th>customer_id</th>\n",
       "      <th>breed</th>\n",
       "      <th>age</th>\n",
       "      <th>income</th>\n",
       "    </tr>\n",
       "  </thead>\n",
       "  <tbody>\n",
       "    <tr>\n",
       "      <th>0</th>\n",
       "      <td>rezLh5Hae3m6flaxM4</td>\n",
       "      <td>Purebred</td>\n",
       "      <td>[25-35[</td>\n",
       "      <td>[120-200K$[</td>\n",
       "    </tr>\n",
       "    <tr>\n",
       "      <th>1</th>\n",
       "      <td>resWkHpEcL1IUfdoBp</td>\n",
       "      <td>Purebred</td>\n",
       "      <td>[25-35[</td>\n",
       "      <td>[80-120K$[</td>\n",
       "    </tr>\n",
       "    <tr>\n",
       "      <th>2</th>\n",
       "      <td>re9qxF7kS9R2LwOVVY</td>\n",
       "      <td>Purebred</td>\n",
       "      <td>[35-45[</td>\n",
       "      <td>[80-120K$[</td>\n",
       "    </tr>\n",
       "    <tr>\n",
       "      <th>3</th>\n",
       "      <td>re3IZNYZY6xr8OAE56</td>\n",
       "      <td>Purebred</td>\n",
       "      <td>[55-65[</td>\n",
       "      <td>[40-80K$[</td>\n",
       "    </tr>\n",
       "    <tr>\n",
       "      <th>4</th>\n",
       "      <td>re01lnV2DfgMLdfIF7</td>\n",
       "      <td>Purebred</td>\n",
       "      <td>[65+[</td>\n",
       "      <td>[80-120K$[</td>\n",
       "    </tr>\n",
       "    <tr>\n",
       "      <th>5</th>\n",
       "      <td>re9NBi5sPGveUW6zqc</td>\n",
       "      <td>Purebred</td>\n",
       "      <td>[55-65[</td>\n",
       "      <td>[40-80K$[</td>\n",
       "    </tr>\n",
       "    <tr>\n",
       "      <th>6</th>\n",
       "      <td>reKZWGlcyUPLC9snc1</td>\n",
       "      <td>Purebred</td>\n",
       "      <td>[55-65[</td>\n",
       "      <td>[200K$+[</td>\n",
       "    </tr>\n",
       "    <tr>\n",
       "      <th>7</th>\n",
       "      <td>recNuyd3xuHemzComz</td>\n",
       "      <td>Mixed-breed</td>\n",
       "      <td>[55-65[</td>\n",
       "      <td>[80-120K$[</td>\n",
       "    </tr>\n",
       "    <tr>\n",
       "      <th>8</th>\n",
       "      <td>resmVwWh8SLjQbnsJf</td>\n",
       "      <td>Purebred</td>\n",
       "      <td>[18-25[</td>\n",
       "      <td>[120-200K$[</td>\n",
       "    </tr>\n",
       "    <tr>\n",
       "      <th>9</th>\n",
       "      <td>reb1EYLdxtmIQ3RcP5</td>\n",
       "      <td>Mixed-breed</td>\n",
       "      <td>[65+[</td>\n",
       "      <td>[80-120K$[</td>\n",
       "    </tr>\n",
       "  </tbody>\n",
       "</table>\n",
       "</div>"
      ],
      "text/plain": [
       "          customer_id        breed      age       income\n",
       "0  rezLh5Hae3m6flaxM4     Purebred  [25-35[  [120-200K$[\n",
       "1  resWkHpEcL1IUfdoBp     Purebred  [25-35[   [80-120K$[\n",
       "2  re9qxF7kS9R2LwOVVY     Purebred  [35-45[   [80-120K$[\n",
       "3  re3IZNYZY6xr8OAE56     Purebred  [55-65[    [40-80K$[\n",
       "4  re01lnV2DfgMLdfIF7     Purebred    [65+[   [80-120K$[\n",
       "5  re9NBi5sPGveUW6zqc     Purebred  [55-65[    [40-80K$[\n",
       "6  reKZWGlcyUPLC9snc1     Purebred  [55-65[     [200K$+[\n",
       "7  recNuyd3xuHemzComz  Mixed-breed  [55-65[   [80-120K$[\n",
       "8  resmVwWh8SLjQbnsJf     Purebred  [18-25[  [120-200K$[\n",
       "9  reb1EYLdxtmIQ3RcP5  Mixed-breed    [65+[   [80-120K$["
      ]
     },
     "metadata": {},
     "output_type": "display_data"
    }
   ],
   "source": [
    "# Define file path of the dataset\n",
    "file_path = 'socio_demo.csv'\n",
    "\n",
    "# Create dataframe\n",
    "df_socio_demo = pd.read_csv(file_path)\n",
    "\n",
    "display(df_socio_demo.head(10))"
   ]
  },
  {
   "cell_type": "code",
   "execution_count": 12,
   "metadata": {},
   "outputs": [
    {
     "name": "stdout",
     "output_type": "stream",
     "text": [
      "1354584\n"
     ]
    }
   ],
   "source": [
    "print(len(df_socio_demo))"
   ]
  },
  {
   "cell_type": "code",
   "execution_count": 13,
   "metadata": {},
   "outputs": [
    {
     "name": "stdout",
     "output_type": "stream",
     "text": [
      "\n",
      "Basic Information:\n",
      "\n",
      "<class 'pandas.core.frame.DataFrame'>\n",
      "RangeIndex: 1354584 entries, 0 to 1354583\n",
      "Data columns (total 4 columns):\n",
      " #   Column       Non-Null Count    Dtype \n",
      "---  ------       --------------    ----- \n",
      " 0   customer_id  1354584 non-null  object\n",
      " 1   breed        1354584 non-null  object\n",
      " 2   age          1354584 non-null  object\n",
      " 3   income       1354584 non-null  object\n",
      "dtypes: object(4)\n",
      "memory usage: 41.3+ MB\n",
      "\n",
      "Summary Statistics:\n",
      "\n",
      "               customer_id     breed      age       income\n",
      "count              1354584   1354584  1354584      1354584\n",
      "unique             1354584         2        6            5\n",
      "top     rezLh5Hae3m6flaxM4  Purebred    [65+[  [120-200K$[\n",
      "freq                     1    827017   257005       297276\n"
     ]
    }
   ],
   "source": [
    "# Display basic information about the dataset\n",
    "print(\"\\nBasic Information:\\n\")\n",
    "df_socio_demo.info()\n",
    "\n",
    "# Display summary statistics\n",
    "print(\"\\nSummary Statistics:\\n\")\n",
    "print(df_socio_demo.describe(include='all'))"
   ]
  },
  {
   "cell_type": "markdown",
   "metadata": {},
   "source": [
    "# Missing Values"
   ]
  },
  {
   "cell_type": "code",
   "execution_count": 14,
   "metadata": {},
   "outputs": [
    {
     "data": {
      "image/png": "[encoded data removed]",
      "text/plain": [
       "<Figure size 800x500 with 1 Axes>"
      ]
     },
     "metadata": {},
     "output_type": "display_data"
    },
    {
     "name": "stdout",
     "output_type": "stream",
     "text": [
      "             Missing Count  Missing Percentage (%)\n",
      "customer_id              0                     0.0\n",
      "breed                    0                     0.0\n",
      "age                      0                     0.0\n",
      "income                   0                     0.0\n"
     ]
    }
   ],
   "source": [
    "def count_missing_values_summary(df):\n",
    "    missing_counts = df.isnull().sum()\n",
    "    missing_percentage = (missing_counts / len(df)) * 100\n",
    "    missing_columns = missing_counts[missing_counts > 0]\n",
    "    missing_summary = pd.DataFrame({\n",
    "        'Missing Count': missing_counts,\n",
    "        'Missing Percentage (%)': missing_percentage}\n",
    "    ).sort_values(by='Missing Count', ascending=False)\n",
    "    \n",
    "    # Create the histogram\n",
    "    plt.figure(figsize=(8, 5))\n",
    "    plt.ylim(0, 100)\n",
    "    plt.bar(missing_summary.index, missing_summary['Missing Percentage (%)'], color='skyblue', edgecolor='black')\n",
    "    plt.xlabel('Columns', fontsize=12)\n",
    "    plt.ylabel('%', fontsize=12)\n",
    "    plt.title('% of Missing Values', fontsize=14)\n",
    "    plt.xticks(rotation=45, ha='right')\n",
    "    plt.tight_layout()\n",
    "    plt.show()\n",
    "    \n",
    "    return missing_summary\n",
    "\n",
    "# Example usage\n",
    "summary = count_missing_values_summary(df_socio_demo)\n",
    "print(summary)"
   ]
  },
  {
   "cell_type": "code",
   "execution_count": 15,
   "metadata": {},
   "outputs": [
    {
     "data": {
      "text/plain": [
       "Text(0, 0.5, 'Percentage')"
      ]
     },
     "execution_count": 15,
     "metadata": {},
     "output_type": "execute_result"
    },
    {
     "data": {
      "image/png": "[encoded data removed]",
      "text/plain": [
       "<Figure size 1600x1000 with 1 Axes>"
      ]
     },
     "metadata": {},
     "output_type": "display_data"
    }
   ],
   "source": [
    "# Plot distributions for each column\n",
    "plt.figure(figsize=(16, 10))\n",
    "\n",
    "# Breed distribution\n",
    "plt.subplot(2, 2, 1)\n",
    "(df_socio_demo['breed'].value_counts(normalize=True) * 100).plot(kind='bar')\n",
    "plt.title('Breed Distribution')\n",
    "plt.xlabel('Breed')\n",
    "plt.ylabel('Percentage')"
   ]
  },
  {
   "cell_type": "code",
   "execution_count": 16,
   "metadata": {},
   "outputs": [
    {
     "data": {
      "image/png": "[encoded data removed]",
      "text/plain": [
       "<Figure size 640x480 with 1 Axes>"
      ]
     },
     "metadata": {},
     "output_type": "display_data"
    }
   ],
   "source": [
    "# Convert age ranges into categorical data\n",
    "age_counts = df_socio_demo['age'].value_counts(normalize=True) * 100  # Convert to percentages\n",
    "\n",
    "# Plot age distribution as a bar chart\n",
    "plt.subplot(2, 2, 2)\n",
    "age_counts.sort_index().plot(kind='bar', color='blue', edgecolor='black')\n",
    "plt.title('Age Distribution')\n",
    "plt.xlabel('Age Ranges')\n",
    "plt.ylabel('Percentage')\n",
    "plt.xticks(rotation=45)\n",
    "plt.tight_layout()"
   ]
  },
  {
   "cell_type": "code",
   "execution_count": 17,
   "metadata": {},
   "outputs": [
    {
     "data": {
      "text/plain": [
       "(array([0, 1, 2, 3, 4]),\n",
       " [Text(0, 0, '[0-40K$['),\n",
       "  Text(1, 0, '[40-80K$['),\n",
       "  Text(2, 0, '[80-120K$['),\n",
       "  Text(3, 0, '[120-200K$['),\n",
       "  Text(4, 0, '[200K$+[')])"
      ]
     },
     "execution_count": 17,
     "metadata": {},
     "output_type": "execute_result"
    },
    {
     "data": {
      "image/png": "[encoded data removed]",
      "text/plain": [
       "<Figure size 640x480 with 1 Axes>"
      ]
     },
     "metadata": {},
     "output_type": "display_data"
    }
   ],
   "source": [
    "# Income distribution\n",
    "plt.subplot(2, 2, 3)\n",
    "income_counts = df_socio_demo['income'].value_counts(normalize=True) * 100\n",
    "income_counts = income_counts.reindex(sorted(income_counts.index, key=lambda x: float(x.strip('[]$K+').split('-')[0].replace('K$', '').replace('+', '').replace('$', '').replace('K', ''))))  # Sort ranges\n",
    "income_counts.plot(kind='bar', color='green', edgecolor='black')\n",
    "plt.title('Income Distribution')\n",
    "plt.xlabel('Income Ranges')\n",
    "plt.ylabel('Percentage')\n",
    "plt.xticks(rotation=45)"
   ]
  },
  {
   "cell_type": "code",
   "execution_count": 19,
   "metadata": {},
   "outputs": [
    {
     "name": "stdout",
     "output_type": "stream",
     "text": [
      "             age  age_midpoint\n",
      "0        [25-35[          30.0\n",
      "1        [25-35[          30.0\n",
      "2        [35-45[          40.0\n",
      "3        [55-65[          60.0\n",
      "4          [65+[          65.0\n",
      "...          ...           ...\n",
      "1354579  [18-25[          21.5\n",
      "1354580  [35-45[          40.0\n",
      "1354581    [65+[          65.0\n",
      "1354582  [35-45[          40.0\n",
      "1354583  [18-25[          21.5\n",
      "\n",
      "[1354584 rows x 2 columns]\n"
     ]
    }
   ],
   "source": [
    "# Convert age ranges to numeric midpoints\n",
    "def convert_age_to_midpoint(age_range):\n",
    "    age_range = age_range.strip('[]')  # Remove brackets\n",
    "    if '+' in age_range:  # Handle cases like '65+'\n",
    "        lower = int(age_range.replace('+', ''))  # Convert '65+' to 65\n",
    "        return lower  # Return the lower bound or another fixed value\n",
    "    else:\n",
    "        lower, upper = map(int, age_range.split('-'))\n",
    "        return (lower + upper) / 2  # Calculate the midpoint\n",
    "\n",
    "# Apply the conversion\n",
    "df_socio_demo['age_midpoint'] = df_socio_demo['age'].apply(convert_age_to_midpoint)\n",
    "\n",
    "# Verify the transformation\n",
    "print(df_socio_demo[['age', 'age_midpoint']])\n"
   ]
  },
  {
   "cell_type": "code",
   "execution_count": 20,
   "metadata": {},
   "outputs": [
    {
     "data": {
      "text/plain": [
       "(1354584, 5)"
      ]
     },
     "execution_count": 20,
     "metadata": {},
     "output_type": "execute_result"
    }
   ],
   "source": [
    "df_socio_demo_cleaned = df_socio_demo\n",
    "df_socio_demo_cleaned.shape"
   ]
  },
  {
   "cell_type": "code",
   "execution_count": 21,
   "metadata": {},
   "outputs": [
    {
     "data": {
      "text/html": [
       "<div>\n",
       "<style scoped>\n",
       "    .dataframe tbody tr th:only-of-type {\n",
       "        vertical-align: middle;\n",
       "    }\n",
       "\n",
       "    .dataframe tbody tr th {\n",
       "        vertical-align: top;\n",
       "    }\n",
       "\n",
       "    .dataframe thead th {\n",
       "        text-align: right;\n",
       "    }\n",
       "</style>\n",
       "<table border=\"1\" class=\"dataframe\">\n",
       "  <thead>\n",
       "    <tr style=\"text-align: right;\">\n",
       "      <th></th>\n",
       "      <th>customer_id</th>\n",
       "      <th>breed</th>\n",
       "      <th>age</th>\n",
       "      <th>income</th>\n",
       "      <th>age_midpoint</th>\n",
       "    </tr>\n",
       "  </thead>\n",
       "  <tbody>\n",
       "    <tr>\n",
       "      <th>0</th>\n",
       "      <td>rezLh5Hae3m6flaxM4</td>\n",
       "      <td>Purebred</td>\n",
       "      <td>[25-35[</td>\n",
       "      <td>[120-200K$[</td>\n",
       "      <td>30.0</td>\n",
       "    </tr>\n",
       "    <tr>\n",
       "      <th>1</th>\n",
       "      <td>resWkHpEcL1IUfdoBp</td>\n",
       "      <td>Purebred</td>\n",
       "      <td>[25-35[</td>\n",
       "      <td>[80-120K$[</td>\n",
       "      <td>30.0</td>\n",
       "    </tr>\n",
       "    <tr>\n",
       "      <th>2</th>\n",
       "      <td>re9qxF7kS9R2LwOVVY</td>\n",
       "      <td>Purebred</td>\n",
       "      <td>[35-45[</td>\n",
       "      <td>[80-120K$[</td>\n",
       "      <td>40.0</td>\n",
       "    </tr>\n",
       "    <tr>\n",
       "      <th>3</th>\n",
       "      <td>re3IZNYZY6xr8OAE56</td>\n",
       "      <td>Purebred</td>\n",
       "      <td>[55-65[</td>\n",
       "      <td>[40-80K$[</td>\n",
       "      <td>60.0</td>\n",
       "    </tr>\n",
       "    <tr>\n",
       "      <th>4</th>\n",
       "      <td>re01lnV2DfgMLdfIF7</td>\n",
       "      <td>Purebred</td>\n",
       "      <td>[65+[</td>\n",
       "      <td>[80-120K$[</td>\n",
       "      <td>65.0</td>\n",
       "    </tr>\n",
       "    <tr>\n",
       "      <th>...</th>\n",
       "      <td>...</td>\n",
       "      <td>...</td>\n",
       "      <td>...</td>\n",
       "      <td>...</td>\n",
       "      <td>...</td>\n",
       "    </tr>\n",
       "    <tr>\n",
       "      <th>1354579</th>\n",
       "      <td>rehuo5qYMHOgUSYcdj</td>\n",
       "      <td>Mixed-breed</td>\n",
       "      <td>[18-25[</td>\n",
       "      <td>[0-40K$[</td>\n",
       "      <td>21.5</td>\n",
       "    </tr>\n",
       "    <tr>\n",
       "      <th>1354580</th>\n",
       "      <td>re8tSoLIOhPk5czpLm</td>\n",
       "      <td>Purebred</td>\n",
       "      <td>[35-45[</td>\n",
       "      <td>[40-80K$[</td>\n",
       "      <td>40.0</td>\n",
       "    </tr>\n",
       "    <tr>\n",
       "      <th>1354581</th>\n",
       "      <td>reHJlTYbsdyhpQPXzg</td>\n",
       "      <td>Mixed-breed</td>\n",
       "      <td>[65+[</td>\n",
       "      <td>[40-80K$[</td>\n",
       "      <td>65.0</td>\n",
       "    </tr>\n",
       "    <tr>\n",
       "      <th>1354582</th>\n",
       "      <td>re0dRkGLDObofTjJNj</td>\n",
       "      <td>Purebred</td>\n",
       "      <td>[35-45[</td>\n",
       "      <td>[120-200K$[</td>\n",
       "      <td>40.0</td>\n",
       "    </tr>\n",
       "    <tr>\n",
       "      <th>1354583</th>\n",
       "      <td>reAwDA5MSjXhPteWq2</td>\n",
       "      <td>Mixed-breed</td>\n",
       "      <td>[18-25[</td>\n",
       "      <td>[0-40K$[</td>\n",
       "      <td>21.5</td>\n",
       "    </tr>\n",
       "  </tbody>\n",
       "</table>\n",
       "<p>1354584 rows × 5 columns</p>\n",
       "</div>"
      ],
      "text/plain": [
       "                customer_id        breed      age       income  age_midpoint\n",
       "0        rezLh5Hae3m6flaxM4     Purebred  [25-35[  [120-200K$[          30.0\n",
       "1        resWkHpEcL1IUfdoBp     Purebred  [25-35[   [80-120K$[          30.0\n",
       "2        re9qxF7kS9R2LwOVVY     Purebred  [35-45[   [80-120K$[          40.0\n",
       "3        re3IZNYZY6xr8OAE56     Purebred  [55-65[    [40-80K$[          60.0\n",
       "4        re01lnV2DfgMLdfIF7     Purebred    [65+[   [80-120K$[          65.0\n",
       "...                     ...          ...      ...          ...           ...\n",
       "1354579  rehuo5qYMHOgUSYcdj  Mixed-breed  [18-25[     [0-40K$[          21.5\n",
       "1354580  re8tSoLIOhPk5czpLm     Purebred  [35-45[    [40-80K$[          40.0\n",
       "1354581  reHJlTYbsdyhpQPXzg  Mixed-breed    [65+[    [40-80K$[          65.0\n",
       "1354582  re0dRkGLDObofTjJNj     Purebred  [35-45[  [120-200K$[          40.0\n",
       "1354583  reAwDA5MSjXhPteWq2  Mixed-breed  [18-25[     [0-40K$[          21.5\n",
       "\n",
       "[1354584 rows x 5 columns]"
      ]
     },
     "metadata": {},
     "output_type": "display_data"
    }
   ],
   "source": [
    "display(df_socio_demo_cleaned)"
   ]
  }
 ],
 "metadata": {
  "kernelspec": {
   "display_name": "base",
   "language": "python",
   "name": "python3"
  },
  "language_info": {
   "codemirror_mode": {
    "name": "ipython",
    "version": 3
   },
   "file_extension": ".py",
   "mimetype": "text/x-python",
   "name": "python",
   "nbconvert_exporter": "python",
   "pygments_lexer": "ipython3",
   "version": "3.11.7"
  }
 },
 "nbformat": 4,
 "nbformat_minor": 2
}
