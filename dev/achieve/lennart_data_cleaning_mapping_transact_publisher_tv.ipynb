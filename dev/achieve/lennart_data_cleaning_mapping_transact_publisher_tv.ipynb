{
 "cells": [
  {
   "cell_type": "markdown",
   "metadata": {},
   "source": [
    "# Setup and Analysis"
   ]
  },
  {
   "cell_type": "code",
   "execution_count": 7,
   "metadata": {},
   "outputs": [],
   "source": [
    "import pandas as pd\n",
    "import numpy as np\n",
    "import matplotlib.pyplot as plt\n",
    "\n",
    "from sklearn.model_selection import train_test_split\n",
    "from sklearn.model_selection import GridSearchCV\n",
    "from sklearn.preprocessing import OneHotEncoder\n",
    "from sklearn.preprocessing import MinMaxScaler\n",
    "from sklearn.compose import ColumnTransformer\n",
    "from sklearn.pipeline import Pipeline\n",
    "from sklearn.impute import SimpleImputer\n",
    "from sklearn.metrics import confusion_matrix, ConfusionMatrixDisplay, f1_score, make_scorer\n",
    "from sklearn.preprocessing import MaxAbsScaler\n",
    "\n",
    "from sklearn.svm import SVC\n",
    "from sklearn.ensemble import RandomForestClassifier\n",
    "from sklearn.ensemble import GradientBoostingClassifier\n",
    "from sklearn.linear_model import LogisticRegression\n",
    "from sklearn.feature_selection import SelectKBest, f_classif\n",
    "\n",
    "from sklearn.metrics import classification_report, accuracy_score, precision_score, recall_score, f1_score\n",
    "\n",
    "from imblearn.over_sampling import *\n",
    "from imblearn.under_sampling import RandomUnderSampler\n",
    "from imblearn.pipeline import Pipeline\n",
    "\n",
    "import cartopy.crs as ccrs\n",
    "import cartopy.feature as cfeature"
   ]
  },
  {
   "cell_type": "code",
   "execution_count": 8,
   "metadata": {},
   "outputs": [
    {
     "data": {
      "text/html": [
       "<div>\n",
       "<style scoped>\n",
       "    .dataframe tbody tr th:only-of-type {\n",
       "        vertical-align: middle;\n",
       "    }\n",
       "\n",
       "    .dataframe tbody tr th {\n",
       "        vertical-align: top;\n",
       "    }\n",
       "\n",
       "    .dataframe thead th {\n",
       "        text-align: right;\n",
       "    }\n",
       "</style>\n",
       "<table border=\"1\" class=\"dataframe\">\n",
       "  <thead>\n",
       "    <tr style=\"text-align: right;\">\n",
       "      <th></th>\n",
       "      <th>customer_id</th>\n",
       "      <th>dsp_id</th>\n",
       "      <th>device_id</th>\n",
       "    </tr>\n",
       "  </thead>\n",
       "  <tbody>\n",
       "    <tr>\n",
       "      <th>0</th>\n",
       "      <td>reFs5GI87lXJkJSi9r</td>\n",
       "      <td>dsp9tnGII5BeXbn6LUSFZPcKGCyI0F</td>\n",
       "      <td>ctv81YlbBXho</td>\n",
       "    </tr>\n",
       "    <tr>\n",
       "      <th>1</th>\n",
       "      <td>reTjziox2cSrxVq70Y</td>\n",
       "      <td>dspCSu1n1mhys37Na5OXMaKaE8P8CS</td>\n",
       "      <td>ctvHmkxqZXBg</td>\n",
       "    </tr>\n",
       "    <tr>\n",
       "      <th>2</th>\n",
       "      <td>reOrpt9vhSwhbPVtni</td>\n",
       "      <td>dsp1hXcI9Q6TZYzLEmeTkxzhjqD6HJ</td>\n",
       "      <td>ctvwp5n34myx</td>\n",
       "    </tr>\n",
       "    <tr>\n",
       "      <th>3</th>\n",
       "      <td>reutQ3jiBX9Li4Ggqi</td>\n",
       "      <td>dspcd3UcXUcUk0PEo2hb8CEH3WVlFE</td>\n",
       "      <td>ctvdkYC70D2x</td>\n",
       "    </tr>\n",
       "    <tr>\n",
       "      <th>4</th>\n",
       "      <td>reH7UgH29AreRh8wWy</td>\n",
       "      <td>dspSnORtuQRLSkZKp9nbSIpbJBQLP1</td>\n",
       "      <td>ctvTgbqnhRd8</td>\n",
       "    </tr>\n",
       "    <tr>\n",
       "      <th>5</th>\n",
       "      <td>reHAnmLXgIZqJT0i64</td>\n",
       "      <td>dspfp8NFN8MfPTM5zvmeSJYqX9NzSW</td>\n",
       "      <td>ctvWjRSFfqf9</td>\n",
       "    </tr>\n",
       "    <tr>\n",
       "      <th>6</th>\n",
       "      <td>unknown</td>\n",
       "      <td>dspGjtT1HFP93mdV0azFnq3d9RWimz</td>\n",
       "      <td>NaN</td>\n",
       "    </tr>\n",
       "    <tr>\n",
       "      <th>7</th>\n",
       "      <td>reIYreUnTRc6yFflWy</td>\n",
       "      <td>dsp5g1hhUvLR4MjLQuI0UTQXbmQx4R</td>\n",
       "      <td>ctv5yal7dewi</td>\n",
       "    </tr>\n",
       "    <tr>\n",
       "      <th>8</th>\n",
       "      <td>reDzpCoOpWJc5l9K3y</td>\n",
       "      <td>unknown</td>\n",
       "      <td>ctv9sCxrEjFD</td>\n",
       "    </tr>\n",
       "    <tr>\n",
       "      <th>9</th>\n",
       "      <td>reEW1KfvG7XlTbXwa6</td>\n",
       "      <td>dsp209Hn140h3HQO3sDplynIC1HfS4</td>\n",
       "      <td>ctvywJV5bzru</td>\n",
       "    </tr>\n",
       "  </tbody>\n",
       "</table>\n",
       "</div>"
      ],
      "text/plain": [
       "          customer_id                          dsp_id     device_id\n",
       "0  reFs5GI87lXJkJSi9r  dsp9tnGII5BeXbn6LUSFZPcKGCyI0F  ctv81YlbBXho\n",
       "1  reTjziox2cSrxVq70Y  dspCSu1n1mhys37Na5OXMaKaE8P8CS  ctvHmkxqZXBg\n",
       "2  reOrpt9vhSwhbPVtni  dsp1hXcI9Q6TZYzLEmeTkxzhjqD6HJ  ctvwp5n34myx\n",
       "3  reutQ3jiBX9Li4Ggqi  dspcd3UcXUcUk0PEo2hb8CEH3WVlFE  ctvdkYC70D2x\n",
       "4  reH7UgH29AreRh8wWy  dspSnORtuQRLSkZKp9nbSIpbJBQLP1  ctvTgbqnhRd8\n",
       "5  reHAnmLXgIZqJT0i64  dspfp8NFN8MfPTM5zvmeSJYqX9NzSW  ctvWjRSFfqf9\n",
       "6             unknown  dspGjtT1HFP93mdV0azFnq3d9RWimz           NaN\n",
       "7  reIYreUnTRc6yFflWy  dsp5g1hhUvLR4MjLQuI0UTQXbmQx4R  ctv5yal7dewi\n",
       "8  reDzpCoOpWJc5l9K3y                         unknown  ctv9sCxrEjFD\n",
       "9  reEW1KfvG7XlTbXwa6  dsp209Hn140h3HQO3sDplynIC1HfS4  ctvywJV5bzru"
      ]
     },
     "metadata": {},
     "output_type": "display_data"
    }
   ],
   "source": [
    "# Load the CSV file into a DataFrame\n",
    "file_path = 'mapping_transac_publisher_tv.csv'  # Update with your file's correct path\n",
    "df_mapping_transact_publisher = pd.read_csv(file_path)\n",
    "\n",
    "# Display the first few rows of the DataFrame to verify\n",
    "display(df_mapping_transact_publisher.head(10))"
   ]
  },
  {
   "cell_type": "code",
   "execution_count": 4,
   "metadata": {},
   "outputs": [
    {
     "name": "stdout",
     "output_type": "stream",
     "text": [
      "7984411\n"
     ]
    }
   ],
   "source": [
    "print(len(df_mapping_transact_publisher))"
   ]
  },
  {
   "cell_type": "code",
   "execution_count": 9,
   "metadata": {},
   "outputs": [
    {
     "name": "stdout",
     "output_type": "stream",
     "text": [
      "customer_id    object\n",
      "dsp_id         object\n",
      "device_id      object\n",
      "dtype: object\n"
     ]
    }
   ],
   "source": [
    "print(df_mapping_transact_publisher.dtypes)"
   ]
  },
  {
   "cell_type": "code",
   "execution_count": 10,
   "metadata": {},
   "outputs": [
    {
     "data": {
      "image/png": "[encoded data removed]",
      "text/plain": [
       "<Figure size 800x500 with 1 Axes>"
      ]
     },
     "metadata": {},
     "output_type": "display_data"
    },
    {
     "name": "stdout",
     "output_type": "stream",
     "text": [
      "             Missing Count  Missing Percentage (%)\n",
      "device_id           158701                1.987636\n",
      "customer_id              0                0.000000\n",
      "dsp_id                   0                0.000000\n"
     ]
    }
   ],
   "source": [
    "def count_missing_values_summary(df):\n",
    "    missing_counts = df.isnull().sum()\n",
    "    missing_percentage = (missing_counts / len(df)) * 100\n",
    "    missing_columns = missing_counts[missing_counts > 0]\n",
    "    missing_summary = pd.DataFrame({\n",
    "        'Missing Count': missing_counts,\n",
    "        'Missing Percentage (%)': missing_percentage}\n",
    "    ).sort_values(by='Missing Count', ascending=False)\n",
    "    \n",
    "    # Create the histogram\n",
    "    plt.figure(figsize=(8, 5))\n",
    "    plt.ylim(0, 100)\n",
    "    plt.bar(missing_summary.index, missing_summary['Missing Percentage (%)'], color='skyblue', edgecolor='black')\n",
    "    plt.xlabel('Columns', fontsize=12)\n",
    "    plt.ylabel('%', fontsize=12)\n",
    "    plt.title('% of Missing Values', fontsize=14)\n",
    "    plt.xticks(rotation=45, ha='right')\n",
    "    plt.tight_layout()\n",
    "    plt.show()\n",
    "    \n",
    "    return missing_summary\n",
    "\n",
    "# Example usage\n",
    "summary = count_missing_values_summary(df_mapping_transact_publisher)\n",
    "print(summary)"
   ]
  },
  {
   "cell_type": "markdown",
   "metadata": {},
   "source": [
    "#### Analyse 'device_id' to figure out where the missing values are listed."
   ]
  },
  {
   "cell_type": "code",
   "execution_count": 11,
   "metadata": {},
   "outputs": [
    {
     "name": "stdout",
     "output_type": "stream",
     "text": [
      "\n",
      "Rows with Null Values:\n",
      "        customer_id                          dsp_id device_id\n",
      "6           unknown  dspGjtT1HFP93mdV0azFnq3d9RWimz       NaN\n",
      "41          unknown  dspj2u01TFJSqeyxLmLAJWZYlntHlA       NaN\n",
      "60          unknown  dspC0yLixe7ItI8NZK0Mi3z6qKoZQ4       NaN\n",
      "65          unknown  dspMxyQVmUXaJbdPuCQElVwUicT7aE       NaN\n",
      "108         unknown  dsph0p8ZctktLye389DnMS8sD7UMHw       NaN\n",
      "...             ...                             ...       ...\n",
      "7984233     unknown                         unknown       NaN\n",
      "7984303     unknown  dspeh7veC2iKMjXM8X7anfSK2z3O52       NaN\n",
      "7984320     unknown  dsp4l4E7CkZkdNCmVh3Dpt1CAaLLU9       NaN\n",
      "7984349     unknown  dspgZ6zvh0Fy0CI4EaVSlYEf0W68Bu       NaN\n",
      "7984356     unknown  dspacGdpCJ2QhaKbTH2HKToRcDiBdH       NaN\n",
      "\n",
      "[158701 rows x 3 columns]\n"
     ]
    }
   ],
   "source": [
    "# Check for rows with null values\n",
    "null_rows = df_mapping_transact_publisher[df_mapping_transact_publisher.isnull().any(axis=1)]\n",
    "\n",
    "# Display the rows with null values\n",
    "print(\"\\nRows with Null Values:\")\n",
    "print(null_rows)"
   ]
  },
  {
   "cell_type": "code",
   "execution_count": 12,
   "metadata": {},
   "outputs": [
    {
     "name": "stdout",
     "output_type": "stream",
     "text": [
      "\n",
      "Null Value Counts by Column:\n",
      "customer_id         0\n",
      "dsp_id              0\n",
      "device_id      158701\n",
      "dtype: int64\n"
     ]
    }
   ],
   "source": [
    "# Analyze null values in each column\n",
    "print(\"\\nNull Value Counts by Column:\")\n",
    "print(df_mapping_transact_publisher.isnull().sum())"
   ]
  },
  {
   "cell_type": "code",
   "execution_count": 13,
   "metadata": {},
   "outputs": [
    {
     "name": "stdout",
     "output_type": "stream",
     "text": [
      "\n",
      "Null Value Distribution with Respect to 'customer_id':\n",
      "customer_id\n",
      "unknown    158701\n",
      "Name: count, dtype: int64\n",
      "\n",
      "Null Value Distribution with Respect to 'dsp_id':\n",
      "dsp_id\n",
      "unknown                           17491\n",
      "dspGjtT1HFP93mdV0azFnq3d9RWimz        1\n",
      "dspNAnPYtwogpHXjvIqJmfYNms1JUK        1\n",
      "dsphz2E3wIApMZDC4siwNkrGgxgC4Y        1\n",
      "dspyEFatfJLJYfnyMaALCsW4MBT4FM        1\n",
      "                                  ...  \n",
      "dspVuhGouweBJsfhiT279JfpEliu5P        1\n",
      "dsp2k2J5LxFD4Jft6qoz8UNp05s8vP        1\n",
      "dsp40EyNFhknD2VM1osUyVAx2G3cnR        1\n",
      "dsplue8VSZ74QegpV1z8gF0XVgzffu        1\n",
      "dspacGdpCJ2QhaKbTH2HKToRcDiBdH        1\n",
      "Name: count, Length: 141211, dtype: int64\n"
     ]
    }
   ],
   "source": [
    "# Check the distribution of null values with respect to 'customer_id' and 'dsp_id'\n",
    "print(\"\\nNull Value Distribution with Respect to 'customer_id':\")\n",
    "print(null_rows['customer_id'].value_counts(dropna=False))\n",
    "\n",
    "print(\"\\nNull Value Distribution with Respect to 'dsp_id':\")\n",
    "print(null_rows['dsp_id'].value_counts(dropna=False))"
   ]
  },
  {
   "cell_type": "markdown",
   "metadata": {},
   "source": [
    "#### Decision: Drop Missing values of 'device_id'"
   ]
  },
  {
   "cell_type": "code",
   "execution_count": 16,
   "metadata": {},
   "outputs": [],
   "source": [
    "df_mapping_transact_publisher_cleaned = df_mapping_transact_publisher.dropna()"
   ]
  },
  {
   "cell_type": "code",
   "execution_count": 18,
   "metadata": {},
   "outputs": [
    {
     "data": {
      "text/plain": [
       "(7825710, 3)"
      ]
     },
     "execution_count": 18,
     "metadata": {},
     "output_type": "execute_result"
    }
   ],
   "source": [
    "df_mapping_transact_publisher_cleaned.shape"
   ]
  }
 ],
 "metadata": {
  "kernelspec": {
   "display_name": "base",
   "language": "python",
   "name": "python3"
  },
  "language_info": {
   "codemirror_mode": {
    "name": "ipython",
    "version": 3
   },
   "file_extension": ".py",
   "mimetype": "text/x-python",
   "name": "python",
   "nbconvert_exporter": "python",
   "pygments_lexer": "ipython3",
   "version": "3.11.7"
  }
 },
 "nbformat": 4,
 "nbformat_minor": 2
}
